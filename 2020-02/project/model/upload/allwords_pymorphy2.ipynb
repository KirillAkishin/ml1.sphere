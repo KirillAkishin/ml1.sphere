{
 "cells": [
  {
   "cell_type": "code",
   "execution_count": 1,
   "metadata": {},
   "outputs": [],
   "source": [
    "from bs4 import BeautifulSoup\n",
    "import re\n",
    "import codecs\n",
    "import numpy as np\n",
    "import pandas as pd\n",
    "from tqdm import tqdm_notebook\n",
    "import pymorphy2 "
   ]
  },
  {
   "cell_type": "code",
   "execution_count": 2,
   "metadata": {},
   "outputs": [],
   "source": [
    "def pos(word, morth=pymorphy2.MorphAnalyzer()):\n",
    "    \"Return a likely part of speech for the *word*.\"\"\"\n",
    "    return morth.parse(word)[0].tag.POS\n",
    "functors_pos = {'INTJ', 'PRCL', 'CONJ', 'PREP'}  # function words"
   ]
  },
  {
   "cell_type": "code",
   "execution_count": 3,
   "metadata": {},
   "outputs": [],
   "source": [
    "from nltk.corpus import stopwords\n",
    "russian_stopwords = stopwords.words(\"russian\")"
   ]
  },
  {
   "cell_type": "markdown",
   "metadata": {},
   "source": [
    "### [:200]"
   ]
  },
  {
   "cell_type": "code",
   "execution_count": 4,
   "metadata": {},
   "outputs": [],
   "source": [
    "path = '../content/'\n",
    "output_txt = 'allwords_pymorphy2_output_lite.txt'\n",
    "total_sites = 28026"
   ]
  },
  {
   "cell_type": "code",
   "execution_count": 5,
   "metadata": {
    "scrolled": true
   },
   "outputs": [
    {
     "data": {
      "application/vnd.jupyter.widget-view+json": {
       "model_id": "33439fe1857d44bd83ba979930c71da0",
       "version_major": 2,
       "version_minor": 0
      },
      "text/plain": [
       "HBox(children=(IntProgress(value=0, max=28026), HTML(value='')))"
      ]
     },
     "metadata": {},
     "output_type": "display_data"
    },
    {
     "name": "stdout",
     "output_type": "stream",
     "text": [
      "\n"
     ]
    }
   ],
   "source": [
    "doc_to_title = {}\n",
    "with tqdm_notebook(total=total_sites) as pbar:\n",
    "    with open(output_txt, 'w') as out_f:\n",
    "        out_f.write('{}\\t{}\\n'.format('doc_id', 'words'))\n",
    "        for doc_id in range(1,total_sites+1):\n",
    "            with open(path + str(doc_id) + \".dat\",'r') as in_f:\n",
    "                \n",
    "                soup = BeautifulSoup(in_f, 'html.parser')\n",
    "                result = [i for i in re.split(r'\\W+', soup.text.lower()) if i]\n",
    "                result = [re.sub(r'[^ёЁА-я]', '', i) for i in result]\n",
    "                result = result[:200]\n",
    "                morth=pymorphy2.MorphAnalyzer()\n",
    "                result = [morth.parse(word)[0].normal_form  for word in result if pos(word) not in functors_pos]\n",
    "                result = [word for word in result if word not in russian_stopwords and len(word)>2]\n",
    "                result = re.sub('\\s+',' ', ' '.join(result))   \n",
    "                \n",
    "                out_f.write('{}\\t{}\\n'.format(doc_id, re.sub('\\s+',' ', result)))\n",
    "                pbar.update()"
   ]
  },
  {
   "cell_type": "code",
   "execution_count": 6,
   "metadata": {},
   "outputs": [
    {
     "data": {
      "text/html": [
       "<div>\n",
       "<style scoped>\n",
       "    .dataframe tbody tr th:only-of-type {\n",
       "        vertical-align: middle;\n",
       "    }\n",
       "\n",
       "    .dataframe tbody tr th {\n",
       "        vertical-align: top;\n",
       "    }\n",
       "\n",
       "    .dataframe thead th {\n",
       "        text-align: right;\n",
       "    }\n",
       "</style>\n",
       "<table border=\"1\" class=\"dataframe\">\n",
       "  <thead>\n",
       "    <tr style=\"text-align: right;\">\n",
       "      <th></th>\n",
       "      <th>doc_id</th>\n",
       "      <th>words</th>\n",
       "    </tr>\n",
       "  </thead>\n",
       "  <tbody>\n",
       "    <tr>\n",
       "      <th>0</th>\n",
       "      <td>1</td>\n",
       "      <td>метр аншина центр репродукция генетик фертимед...</td>\n",
       "    </tr>\n",
       "    <tr>\n",
       "      <th>1</th>\n",
       "      <td>2</td>\n",
       "      <td>перевод киви кошелёк главный перевод киви коше...</td>\n",
       "    </tr>\n",
       "  </tbody>\n",
       "</table>\n",
       "</div>"
      ],
      "text/plain": [
       "   doc_id                                              words\n",
       "0       1  метр аншина центр репродукция генетик фертимед...\n",
       "1       2  перевод киви кошелёк главный перевод киви коше..."
      ]
     },
     "execution_count": 6,
     "metadata": {},
     "output_type": "execute_result"
    }
   ],
   "source": [
    "df = pd.read_csv(output_txt, sep='\\t', encoding='utf-8', lineterminator='\\n')\n",
    "df.head(2)"
   ]
  },
  {
   "cell_type": "markdown",
   "metadata": {},
   "source": [
    "### all"
   ]
  },
  {
   "cell_type": "code",
   "execution_count": 4,
   "metadata": {},
   "outputs": [],
   "source": [
    "path = '../content/'\n",
    "output_txt = 'allwords_pymorphy2_output.txt'\n",
    "total_sites = 28026"
   ]
  },
  {
   "cell_type": "code",
   "execution_count": null,
   "metadata": {},
   "outputs": [
    {
     "data": {
      "application/vnd.jupyter.widget-view+json": {
       "model_id": "409a9722a2e94754b73bf858a8ab9637",
       "version_major": 2,
       "version_minor": 0
      },
      "text/plain": [
       "HBox(children=(IntProgress(value=0, max=28026), HTML(value='')))"
      ]
     },
     "metadata": {},
     "output_type": "display_data"
    }
   ],
   "source": [
    "with tqdm_notebook(total=total_sites) as pbar:\n",
    "    with open(output_txt, 'w') as out_f:\n",
    "        out_f.write('{}\\t{}\\n'.format('doc_id', 'words'))\n",
    "        for doc_id in range(1,total_sites+1):\n",
    "            with open(path + str(doc_id) + \".dat\",'r') as in_f:\n",
    "                \n",
    "                soup = BeautifulSoup(in_f, 'html.parser')\n",
    "                result = [i for i in re.split(r'\\W+', soup.text.lower()) if i]\n",
    "                result = [re.sub(r'[^ёЁА-я]', '', i) for i in result]\n",
    "#                 result = result[:200]\n",
    "                morth=pymorphy2.MorphAnalyzer()\n",
    "                result = [morth.parse(word)[0].normal_form  for word in result if pos(word) not in functors_pos]\n",
    "                result = [word for word in result if word not in russian_stopwords and len(word)>2]\n",
    "                result = re.sub('\\s+',' ', ' '.join(result))   \n",
    "                \n",
    "                out_f.write('{}\\t{}\\n'.format(doc_id, re.sub('\\s+',' ', result)))\n",
    "                pbar.update()"
   ]
  },
  {
   "cell_type": "code",
   "execution_count": null,
   "metadata": {},
   "outputs": [],
   "source": []
  }
 ],
 "metadata": {
  "kernelspec": {
   "display_name": "Python 3",
   "language": "python",
   "name": "python3"
  },
  "language_info": {
   "codemirror_mode": {
    "name": "ipython",
    "version": 3
   },
   "file_extension": ".py",
   "mimetype": "text/x-python",
   "name": "python",
   "nbconvert_exporter": "python",
   "pygments_lexer": "ipython3",
   "version": "3.7.3"
  }
 },
 "nbformat": 4,
 "nbformat_minor": 2
}
