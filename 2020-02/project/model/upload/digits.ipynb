{
 "cells": [
  {
   "cell_type": "code",
   "execution_count": 2,
   "metadata": {},
   "outputs": [],
   "source": [
    "from bs4 import BeautifulSoup\n",
    "import re\n",
    "import codecs\n",
    "import numpy as np\n",
    "import pandas as pd\n",
    "from tqdm import tqdm_notebook\n",
    "import os"
   ]
  },
  {
   "cell_type": "code",
   "execution_count": 61,
   "metadata": {},
   "outputs": [
    {
     "data": {
      "application/vnd.jupyter.widget-view+json": {
       "model_id": "5b4688a3573a46e6966d8f20a02750a4",
       "version_major": 2,
       "version_minor": 0
      },
      "text/plain": [
       "HBox(children=(IntProgress(value=0, max=28026), HTML(value='')))"
      ]
     },
     "metadata": {},
     "output_type": "display_data"
    },
    {
     "name": "stdout",
     "output_type": "stream",
     "text": [
      "\n"
     ]
    }
   ],
   "source": [
    "output_txt = 'digits_output.txt'\n",
    "total_sites = 28026\n",
    "path = '../content/'\n",
    "\n",
    "with tqdm_notebook(total=total_sites) as pbar:\n",
    "    with open(output_txt, 'w') as out_f:\n",
    "        out_f.write('{}\\t{}\\t{}\\t{}\\t{}\\t{}\\t{}\\t{}\\t{}\\n'.format('doc_id', 'number_cntr', 'year_psbl', \\\n",
    "                                                          'near_year_psbl', 'useful_num_ratio', \\\n",
    "                                                          'long_numbers', 'long_num_ratio', \\\n",
    "                                                          'short_numbers', 'numbers'))\n",
    "        for doc_id in range(1,total_sites+1):\n",
    "            with open(path + str(doc_id) + \".dat\",'r') as in_f:\n",
    "            \n",
    "                soup = BeautifulSoup(in_f, 'html.parser')\n",
    "                numbers = ' '.join([i for i in re.findall(r'\\d+', soup.text)])\n",
    "                number_cntr = len(re.findall(r'[0-9]+', soup.text))\n",
    "                year_psbl = len(re.findall(r'[1-2][0-9][0-9][0-9]', soup.text))\n",
    "                near_year_psbl = len(re.findall(r'20[0-2][0-9]', soup.text))\n",
    "                long_numbers = len(re.findall(r'\\D[0-9]{5,}\\D', soup.text))\n",
    "                if number_cntr != 0:\n",
    "                    useful_num_ratio = near_year_psbl / number_cntr\n",
    "                    long_num_ratio = long_numbers / number_cntr\n",
    "                else:\n",
    "                    useful_num_ratio = 0.\n",
    "                    long_num_ratio = 0.\n",
    "                short_numbers = len(re.findall(r'\\D[0-9]{1,3}\\D', soup.text))\n",
    "#                 print()\n",
    "\n",
    "#                 print(re.findall(r'[0-9]{1,3}', soup.text))\n",
    "\n",
    "                out_f.write('{}\\t{}\\t{}\\t{}\\t{}\\t{}\\t{}\\t{}\\t{}\\n'.format(doc_id, number_cntr, year_psbl, \\\n",
    "                                                                    near_year_psbl, useful_num_ratio, \\\n",
    "                                                                    long_numbers, long_num_ratio, \\\n",
    "                                                                    short_numbers, numbers))\n",
    "                pbar.update()"
   ]
  },
  {
   "cell_type": "code",
   "execution_count": 95,
   "metadata": {},
   "outputs": [
    {
     "data": {
      "text/html": [
       "<div>\n",
       "<style scoped>\n",
       "    .dataframe tbody tr th:only-of-type {\n",
       "        vertical-align: middle;\n",
       "    }\n",
       "\n",
       "    .dataframe tbody tr th {\n",
       "        vertical-align: top;\n",
       "    }\n",
       "\n",
       "    .dataframe thead th {\n",
       "        text-align: right;\n",
       "    }\n",
       "</style>\n",
       "<table border=\"1\" class=\"dataframe\">\n",
       "  <thead>\n",
       "    <tr style=\"text-align: right;\">\n",
       "      <th></th>\n",
       "      <th>doc_id</th>\n",
       "      <th>number_cntr</th>\n",
       "      <th>year_psbl</th>\n",
       "      <th>near_year_psbl</th>\n",
       "      <th>useful_num_ratio</th>\n",
       "      <th>long_numbers</th>\n",
       "      <th>long_num_ratio</th>\n",
       "      <th>short_numbers</th>\n",
       "      <th>numbers</th>\n",
       "    </tr>\n",
       "  </thead>\n",
       "  <tbody>\n",
       "    <tr>\n",
       "      <th>0</th>\n",
       "      <td>1</td>\n",
       "      <td>233</td>\n",
       "      <td>10</td>\n",
       "      <td>3</td>\n",
       "      <td>0.012876</td>\n",
       "      <td>0</td>\n",
       "      <td>0.000000</td>\n",
       "      <td>155</td>\n",
       "      <td>5141 260 22 12 02 2013 260 22 1 29 8 1 5 530 6...</td>\n",
       "    </tr>\n",
       "    <tr>\n",
       "      <th>1</th>\n",
       "      <td>2</td>\n",
       "      <td>33</td>\n",
       "      <td>9</td>\n",
       "      <td>1</td>\n",
       "      <td>0.030303</td>\n",
       "      <td>6</td>\n",
       "      <td>0.181818</td>\n",
       "      <td>25</td>\n",
       "      <td>100 960 10 0 14 17 1 800 5591742745017420 2547...</td>\n",
       "    </tr>\n",
       "    <tr>\n",
       "      <th>2</th>\n",
       "      <td>3</td>\n",
       "      <td>896</td>\n",
       "      <td>202</td>\n",
       "      <td>7</td>\n",
       "      <td>0.007812</td>\n",
       "      <td>18</td>\n",
       "      <td>0.020089</td>\n",
       "      <td>611</td>\n",
       "      <td>13 319 1 760 570 0 0 640 480 0 20 20 50 50 20 ...</td>\n",
       "    </tr>\n",
       "    <tr>\n",
       "      <th>3</th>\n",
       "      <td>4</td>\n",
       "      <td>349</td>\n",
       "      <td>24</td>\n",
       "      <td>8</td>\n",
       "      <td>0.022923</td>\n",
       "      <td>4</td>\n",
       "      <td>0.011461</td>\n",
       "      <td>299</td>\n",
       "      <td>95 6 280 3313230 0 1 1 2 3 21 228 23 73 91 60 ...</td>\n",
       "    </tr>\n",
       "    <tr>\n",
       "      <th>4</th>\n",
       "      <td>5</td>\n",
       "      <td>594</td>\n",
       "      <td>38</td>\n",
       "      <td>32</td>\n",
       "      <td>0.053872</td>\n",
       "      <td>4</td>\n",
       "      <td>0.006734</td>\n",
       "      <td>411</td>\n",
       "      <td>4 1 0 0 0 1 80 0 0 4 0 1 8 0 5 1 80 0 5 1 86 0...</td>\n",
       "    </tr>\n",
       "  </tbody>\n",
       "</table>\n",
       "</div>"
      ],
      "text/plain": [
       "   doc_id  number_cntr  year_psbl  near_year_psbl  useful_num_ratio  \\\n",
       "0       1          233         10               3          0.012876   \n",
       "1       2           33          9               1          0.030303   \n",
       "2       3          896        202               7          0.007812   \n",
       "3       4          349         24               8          0.022923   \n",
       "4       5          594         38              32          0.053872   \n",
       "\n",
       "   long_numbers  long_num_ratio  short_numbers  \\\n",
       "0             0        0.000000            155   \n",
       "1             6        0.181818             25   \n",
       "2            18        0.020089            611   \n",
       "3             4        0.011461            299   \n",
       "4             4        0.006734            411   \n",
       "\n",
       "                                             numbers  \n",
       "0  5141 260 22 12 02 2013 260 22 1 29 8 1 5 530 6...  \n",
       "1  100 960 10 0 14 17 1 800 5591742745017420 2547...  \n",
       "2  13 319 1 760 570 0 0 640 480 0 20 20 50 50 20 ...  \n",
       "3  95 6 280 3313230 0 1 1 2 3 21 228 23 73 91 60 ...  \n",
       "4  4 1 0 0 0 1 80 0 0 4 0 1 8 0 5 1 80 0 5 1 86 0...  "
      ]
     },
     "execution_count": 95,
     "metadata": {},
     "output_type": "execute_result"
    }
   ],
   "source": [
    "df = pd.read_csv(output_txt, sep='\\t', encoding='utf-8', lineterminator='\\n')\n",
    "# df['useful_num_ratio'] = df['near_year_psbl'] / df['number_cntr']\n",
    "df.head()"
   ]
  },
  {
   "cell_type": "code",
   "execution_count": 96,
   "metadata": {},
   "outputs": [
    {
     "data": {
      "text/html": [
       "<div>\n",
       "<style scoped>\n",
       "    .dataframe tbody tr th:only-of-type {\n",
       "        vertical-align: middle;\n",
       "    }\n",
       "\n",
       "    .dataframe tbody tr th {\n",
       "        vertical-align: top;\n",
       "    }\n",
       "\n",
       "    .dataframe thead th {\n",
       "        text-align: right;\n",
       "    }\n",
       "</style>\n",
       "<table border=\"1\" class=\"dataframe\">\n",
       "  <thead>\n",
       "    <tr style=\"text-align: right;\">\n",
       "      <th></th>\n",
       "      <th>doc_id</th>\n",
       "      <th>number_cntr</th>\n",
       "      <th>year_psbl</th>\n",
       "      <th>near_year_psbl</th>\n",
       "      <th>useful_num_ratio</th>\n",
       "      <th>long_numbers</th>\n",
       "      <th>long_num_ratio</th>\n",
       "      <th>short_numbers</th>\n",
       "    </tr>\n",
       "  </thead>\n",
       "  <tbody>\n",
       "    <tr>\n",
       "      <th>count</th>\n",
       "      <td>28026.000000</td>\n",
       "      <td>28026.000000</td>\n",
       "      <td>28026.000000</td>\n",
       "      <td>28026.000000</td>\n",
       "      <td>28026.000000</td>\n",
       "      <td>28026.000000</td>\n",
       "      <td>28026.000000</td>\n",
       "      <td>28026.000000</td>\n",
       "    </tr>\n",
       "    <tr>\n",
       "      <th>mean</th>\n",
       "      <td>14013.500000</td>\n",
       "      <td>1143.302683</td>\n",
       "      <td>144.843253</td>\n",
       "      <td>51.788875</td>\n",
       "      <td>0.055424</td>\n",
       "      <td>65.232998</td>\n",
       "      <td>0.064647</td>\n",
       "      <td>743.631235</td>\n",
       "    </tr>\n",
       "    <tr>\n",
       "      <th>std</th>\n",
       "      <td>8090.553658</td>\n",
       "      <td>3499.292862</td>\n",
       "      <td>499.418377</td>\n",
       "      <td>226.082903</td>\n",
       "      <td>0.064828</td>\n",
       "      <td>441.259774</td>\n",
       "      <td>0.062924</td>\n",
       "      <td>2116.938610</td>\n",
       "    </tr>\n",
       "    <tr>\n",
       "      <th>min</th>\n",
       "      <td>1.000000</td>\n",
       "      <td>0.000000</td>\n",
       "      <td>0.000000</td>\n",
       "      <td>0.000000</td>\n",
       "      <td>0.000000</td>\n",
       "      <td>0.000000</td>\n",
       "      <td>0.000000</td>\n",
       "      <td>0.000000</td>\n",
       "    </tr>\n",
       "    <tr>\n",
       "      <th>25%</th>\n",
       "      <td>7007.250000</td>\n",
       "      <td>168.000000</td>\n",
       "      <td>14.000000</td>\n",
       "      <td>3.000000</td>\n",
       "      <td>0.010450</td>\n",
       "      <td>6.000000</td>\n",
       "      <td>0.020000</td>\n",
       "      <td>111.000000</td>\n",
       "    </tr>\n",
       "    <tr>\n",
       "      <th>50%</th>\n",
       "      <td>14013.500000</td>\n",
       "      <td>368.000000</td>\n",
       "      <td>36.000000</td>\n",
       "      <td>11.000000</td>\n",
       "      <td>0.030837</td>\n",
       "      <td>16.000000</td>\n",
       "      <td>0.045918</td>\n",
       "      <td>243.000000</td>\n",
       "    </tr>\n",
       "    <tr>\n",
       "      <th>75%</th>\n",
       "      <td>21019.750000</td>\n",
       "      <td>1007.000000</td>\n",
       "      <td>101.000000</td>\n",
       "      <td>38.000000</td>\n",
       "      <td>0.079861</td>\n",
       "      <td>38.000000</td>\n",
       "      <td>0.090909</td>\n",
       "      <td>667.000000</td>\n",
       "    </tr>\n",
       "    <tr>\n",
       "      <th>max</th>\n",
       "      <td>28026.000000</td>\n",
       "      <td>141087.000000</td>\n",
       "      <td>28445.000000</td>\n",
       "      <td>12921.000000</td>\n",
       "      <td>1.000000</td>\n",
       "      <td>58578.000000</td>\n",
       "      <td>1.000000</td>\n",
       "      <td>82164.000000</td>\n",
       "    </tr>\n",
       "  </tbody>\n",
       "</table>\n",
       "</div>"
      ],
      "text/plain": [
       "             doc_id    number_cntr     year_psbl  near_year_psbl  \\\n",
       "count  28026.000000   28026.000000  28026.000000    28026.000000   \n",
       "mean   14013.500000    1143.302683    144.843253       51.788875   \n",
       "std     8090.553658    3499.292862    499.418377      226.082903   \n",
       "min        1.000000       0.000000      0.000000        0.000000   \n",
       "25%     7007.250000     168.000000     14.000000        3.000000   \n",
       "50%    14013.500000     368.000000     36.000000       11.000000   \n",
       "75%    21019.750000    1007.000000    101.000000       38.000000   \n",
       "max    28026.000000  141087.000000  28445.000000    12921.000000   \n",
       "\n",
       "       useful_num_ratio  long_numbers  long_num_ratio  short_numbers  \n",
       "count      28026.000000  28026.000000    28026.000000   28026.000000  \n",
       "mean           0.055424     65.232998        0.064647     743.631235  \n",
       "std            0.064828    441.259774        0.062924    2116.938610  \n",
       "min            0.000000      0.000000        0.000000       0.000000  \n",
       "25%            0.010450      6.000000        0.020000     111.000000  \n",
       "50%            0.030837     16.000000        0.045918     243.000000  \n",
       "75%            0.079861     38.000000        0.090909     667.000000  \n",
       "max            1.000000  58578.000000        1.000000   82164.000000  "
      ]
     },
     "execution_count": 96,
     "metadata": {},
     "output_type": "execute_result"
    }
   ],
   "source": [
    "df.describe()"
   ]
  },
  {
   "cell_type": "code",
   "execution_count": 97,
   "metadata": {},
   "outputs": [
    {
     "data": {
      "text/plain": [
       "<matplotlib.axes._subplots.AxesSubplot at 0x7f481fa49f98>"
      ]
     },
     "execution_count": 97,
     "metadata": {},
     "output_type": "execute_result"
    },
    {
     "data": {
      "image/png": "[encoded data removed]",
      "text/plain": [
       "<Figure size 432x288 with 1 Axes>"
      ]
     },
     "metadata": {
      "needs_background": "light"
     },
     "output_type": "display_data"
    }
   ],
   "source": [
    "df['log_number_cntr'] = df.number_cntr.apply(lambda x: np.log(1+x))\n",
    "df.log_number_cntr.hist(bins=70)"
   ]
  },
  {
   "cell_type": "code",
   "execution_count": 98,
   "metadata": {},
   "outputs": [
    {
     "data": {
      "text/plain": [
       "<matplotlib.axes._subplots.AxesSubplot at 0x7f481fa5fda0>"
      ]
     },
     "execution_count": 98,
     "metadata": {},
     "output_type": "execute_result"
    },
    {
     "data": {
      "image/png": "[encoded data removed]",
      "text/plain": [
       "<Figure size 432x288 with 1 Axes>"
      ]
     },
     "metadata": {
      "needs_background": "light"
     },
     "output_type": "display_data"
    }
   ],
   "source": [
    "df['log_year_psbl'] = df.year_psbl.apply(lambda x: np.log(1+x))\n",
    "df.log_year_psbl.hist(bins=35)"
   ]
  },
  {
   "cell_type": "code",
   "execution_count": 99,
   "metadata": {},
   "outputs": [
    {
     "data": {
      "text/plain": [
       "<matplotlib.axes._subplots.AxesSubplot at 0x7f481f71b588>"
      ]
     },
     "execution_count": 99,
     "metadata": {},
     "output_type": "execute_result"
    },
    {
     "data": {
      "image/png": "[encoded data removed]",
      "text/plain": [
       "<Figure size 432x288 with 1 Axes>"
      ]
     },
     "metadata": {
      "needs_background": "light"
     },
     "output_type": "display_data"
    }
   ],
   "source": [
    "df['log_near_year_psbl'] = df.near_year_psbl.apply(lambda x: np.log(1+x))\n",
    "df.log_near_year_psbl.hist(bins=25)"
   ]
  },
  {
   "cell_type": "code",
   "execution_count": 100,
   "metadata": {},
   "outputs": [
    {
     "data": {
      "text/plain": [
       "<matplotlib.axes._subplots.AxesSubplot at 0x7f481f5c3a58>"
      ]
     },
     "execution_count": 100,
     "metadata": {},
     "output_type": "execute_result"
    },
    {
     "data": {
      "image/png": "[encoded data removed]",
      "text/plain": [
       "<Figure size 432x288 with 1 Axes>"
      ]
     },
     "metadata": {
      "needs_background": "light"
     },
     "output_type": "display_data"
    }
   ],
   "source": [
    "df['log_long_numbers'] = df.long_numbers.apply(lambda x: np.log(1+x))\n",
    "df.log_long_numbers.hist(bins=25)"
   ]
  },
  {
   "cell_type": "code",
   "execution_count": 101,
   "metadata": {},
   "outputs": [
    {
     "data": {
      "text/plain": [
       "<matplotlib.axes._subplots.AxesSubplot at 0x7f481f5c36d8>"
      ]
     },
     "execution_count": 101,
     "metadata": {},
     "output_type": "execute_result"
    },
    {
     "data": {
      "image/png": "[encoded data removed]",
      "text/plain": [
       "<Figure size 432x288 with 1 Axes>"
      ]
     },
     "metadata": {
      "needs_background": "light"
     },
     "output_type": "display_data"
    }
   ],
   "source": [
    "df['log_short_numbers'] = df.short_numbers.apply(lambda x: np.log(1+x))\n",
    "df.log_short_numbers.hist(bins=25)"
   ]
  },
  {
   "cell_type": "code",
   "execution_count": 104,
   "metadata": {},
   "outputs": [],
   "source": [
    "df[['doc_id', 'numbers']].to_csv(\"digits_output_numbers.txt\", index=False, sep='\\t')\n",
    "df = df.drop(labels=['numbers'], axis=1)\n",
    "df.to_csv(\"digits_output_statistics.txt\", index=False, sep='\\t')"
   ]
  },
  {
   "cell_type": "code",
   "execution_count": 117,
   "metadata": {},
   "outputs": [],
   "source": [
    "nimg_df = pd.read_csv('digits_output_statistics.txt', sep='\\t', encoding='utf-8', lineterminator='\\n')"
   ]
  },
  {
   "cell_type": "code",
   "execution_count": 118,
   "metadata": {},
   "outputs": [
    {
     "data": {
      "text/html": [
       "<div>\n",
       "<style scoped>\n",
       "    .dataframe tbody tr th:only-of-type {\n",
       "        vertical-align: middle;\n",
       "    }\n",
       "\n",
       "    .dataframe tbody tr th {\n",
       "        vertical-align: top;\n",
       "    }\n",
       "\n",
       "    .dataframe thead th {\n",
       "        text-align: right;\n",
       "    }\n",
       "</style>\n",
       "<table border=\"1\" class=\"dataframe\">\n",
       "  <thead>\n",
       "    <tr style=\"text-align: right;\">\n",
       "      <th></th>\n",
       "      <th>doc_id</th>\n",
       "      <th>number_cntr</th>\n",
       "      <th>year_psbl</th>\n",
       "      <th>near_year_psbl</th>\n",
       "      <th>useful_num_ratio</th>\n",
       "      <th>long_numbers</th>\n",
       "      <th>long_num_ratio</th>\n",
       "      <th>short_numbers</th>\n",
       "      <th>log_number_cntr</th>\n",
       "      <th>log_year_psbl</th>\n",
       "      <th>log_near_year_psbl</th>\n",
       "      <th>log_long_numbers</th>\n",
       "      <th>log_short_numbers</th>\n",
       "      <th>group_id</th>\n",
       "    </tr>\n",
       "  </thead>\n",
       "  <tbody>\n",
       "    <tr>\n",
       "      <th>count</th>\n",
       "      <td>11690.000000</td>\n",
       "      <td>11690.000000</td>\n",
       "      <td>11690.000000</td>\n",
       "      <td>11690.000000</td>\n",
       "      <td>11690.000000</td>\n",
       "      <td>11690.000000</td>\n",
       "      <td>11690.000000</td>\n",
       "      <td>11690.000000</td>\n",
       "      <td>11690.000000</td>\n",
       "      <td>11690.000000</td>\n",
       "      <td>11690.000000</td>\n",
       "      <td>11690.000000</td>\n",
       "      <td>11690.000000</td>\n",
       "      <td>11690.000000</td>\n",
       "    </tr>\n",
       "    <tr>\n",
       "      <th>mean</th>\n",
       "      <td>13834.891873</td>\n",
       "      <td>1124.654919</td>\n",
       "      <td>154.649102</td>\n",
       "      <td>55.258597</td>\n",
       "      <td>0.055908</td>\n",
       "      <td>70.189393</td>\n",
       "      <td>0.064579</td>\n",
       "      <td>717.963986</td>\n",
       "      <td>6.020916</td>\n",
       "      <td>3.769110</td>\n",
       "      <td>2.606566</td>\n",
       "      <td>2.903085</td>\n",
       "      <td>5.600226</td>\n",
       "      <td>65.321386</td>\n",
       "    </tr>\n",
       "    <tr>\n",
       "      <th>std</th>\n",
       "      <td>8412.887536</td>\n",
       "      <td>3333.578572</td>\n",
       "      <td>593.767327</td>\n",
       "      <td>258.761845</td>\n",
       "      <td>0.065149</td>\n",
       "      <td>621.892284</td>\n",
       "      <td>0.063112</td>\n",
       "      <td>1884.771850</td>\n",
       "      <td>1.334001</td>\n",
       "      <td>1.462863</td>\n",
       "      <td>1.516017</td>\n",
       "      <td>1.417094</td>\n",
       "      <td>1.326292</td>\n",
       "      <td>37.096226</td>\n",
       "    </tr>\n",
       "    <tr>\n",
       "      <th>min</th>\n",
       "      <td>1.000000</td>\n",
       "      <td>0.000000</td>\n",
       "      <td>0.000000</td>\n",
       "      <td>0.000000</td>\n",
       "      <td>0.000000</td>\n",
       "      <td>0.000000</td>\n",
       "      <td>0.000000</td>\n",
       "      <td>0.000000</td>\n",
       "      <td>0.000000</td>\n",
       "      <td>0.000000</td>\n",
       "      <td>0.000000</td>\n",
       "      <td>0.000000</td>\n",
       "      <td>0.000000</td>\n",
       "      <td>1.000000</td>\n",
       "    </tr>\n",
       "    <tr>\n",
       "      <th>25%</th>\n",
       "      <td>6477.250000</td>\n",
       "      <td>166.000000</td>\n",
       "      <td>14.000000</td>\n",
       "      <td>3.000000</td>\n",
       "      <td>0.010695</td>\n",
       "      <td>6.000000</td>\n",
       "      <td>0.020045</td>\n",
       "      <td>108.000000</td>\n",
       "      <td>5.117994</td>\n",
       "      <td>2.708050</td>\n",
       "      <td>1.386294</td>\n",
       "      <td>1.945910</td>\n",
       "      <td>4.691348</td>\n",
       "      <td>33.000000</td>\n",
       "    </tr>\n",
       "    <tr>\n",
       "      <th>50%</th>\n",
       "      <td>13568.500000</td>\n",
       "      <td>364.000000</td>\n",
       "      <td>36.000000</td>\n",
       "      <td>11.000000</td>\n",
       "      <td>0.031348</td>\n",
       "      <td>15.000000</td>\n",
       "      <td>0.045818</td>\n",
       "      <td>239.000000</td>\n",
       "      <td>5.899897</td>\n",
       "      <td>3.610918</td>\n",
       "      <td>2.484907</td>\n",
       "      <td>2.772589</td>\n",
       "      <td>5.480639</td>\n",
       "      <td>66.000000</td>\n",
       "    </tr>\n",
       "    <tr>\n",
       "      <th>75%</th>\n",
       "      <td>21550.250000</td>\n",
       "      <td>993.750000</td>\n",
       "      <td>102.000000</td>\n",
       "      <td>38.000000</td>\n",
       "      <td>0.079646</td>\n",
       "      <td>37.000000</td>\n",
       "      <td>0.090909</td>\n",
       "      <td>651.750000</td>\n",
       "      <td>6.902491</td>\n",
       "      <td>4.634729</td>\n",
       "      <td>3.663562</td>\n",
       "      <td>3.637586</td>\n",
       "      <td>6.481194</td>\n",
       "      <td>98.000000</td>\n",
       "    </tr>\n",
       "    <tr>\n",
       "      <th>max</th>\n",
       "      <td>28025.000000</td>\n",
       "      <td>129460.000000</td>\n",
       "      <td>28445.000000</td>\n",
       "      <td>10763.000000</td>\n",
       "      <td>0.901961</td>\n",
       "      <td>58578.000000</td>\n",
       "      <td>0.958678</td>\n",
       "      <td>77375.000000</td>\n",
       "      <td>11.771135</td>\n",
       "      <td>10.255763</td>\n",
       "      <td>9.283963</td>\n",
       "      <td>10.978132</td>\n",
       "      <td>11.256432</td>\n",
       "      <td>129.000000</td>\n",
       "    </tr>\n",
       "  </tbody>\n",
       "</table>\n",
       "</div>"
      ],
      "text/plain": [
       "             doc_id    number_cntr     year_psbl  near_year_psbl  \\\n",
       "count  11690.000000   11690.000000  11690.000000    11690.000000   \n",
       "mean   13834.891873    1124.654919    154.649102       55.258597   \n",
       "std     8412.887536    3333.578572    593.767327      258.761845   \n",
       "min        1.000000       0.000000      0.000000        0.000000   \n",
       "25%     6477.250000     166.000000     14.000000        3.000000   \n",
       "50%    13568.500000     364.000000     36.000000       11.000000   \n",
       "75%    21550.250000     993.750000    102.000000       38.000000   \n",
       "max    28025.000000  129460.000000  28445.000000    10763.000000   \n",
       "\n",
       "       useful_num_ratio  long_numbers  long_num_ratio  short_numbers  \\\n",
       "count      11690.000000  11690.000000    11690.000000   11690.000000   \n",
       "mean           0.055908     70.189393        0.064579     717.963986   \n",
       "std            0.065149    621.892284        0.063112    1884.771850   \n",
       "min            0.000000      0.000000        0.000000       0.000000   \n",
       "25%            0.010695      6.000000        0.020045     108.000000   \n",
       "50%            0.031348     15.000000        0.045818     239.000000   \n",
       "75%            0.079646     37.000000        0.090909     651.750000   \n",
       "max            0.901961  58578.000000        0.958678   77375.000000   \n",
       "\n",
       "       log_number_cntr  log_year_psbl  log_near_year_psbl  log_long_numbers  \\\n",
       "count     11690.000000   11690.000000        11690.000000      11690.000000   \n",
       "mean          6.020916       3.769110            2.606566          2.903085   \n",
       "std           1.334001       1.462863            1.516017          1.417094   \n",
       "min           0.000000       0.000000            0.000000          0.000000   \n",
       "25%           5.117994       2.708050            1.386294          1.945910   \n",
       "50%           5.899897       3.610918            2.484907          2.772589   \n",
       "75%           6.902491       4.634729            3.663562          3.637586   \n",
       "max          11.771135      10.255763            9.283963         10.978132   \n",
       "\n",
       "       log_short_numbers      group_id  \n",
       "count       11690.000000  11690.000000  \n",
       "mean            5.600226     65.321386  \n",
       "std             1.326292     37.096226  \n",
       "min             0.000000      1.000000  \n",
       "25%             4.691348     33.000000  \n",
       "50%             5.480639     66.000000  \n",
       "75%             6.481194     98.000000  \n",
       "max            11.256432    129.000000  "
      ]
     },
     "execution_count": 118,
     "metadata": {},
     "output_type": "execute_result"
    }
   ],
   "source": [
    "group_df = pd.read_csv('../train_groups.csv', sep=',', encoding='utf-8', lineterminator='\\n')\n",
    "group_df = group_df[['doc_id', 'group_id']]\n",
    "group_df.index = group_df.doc_id\n",
    "group_df.drop('doc_id', inplace=True, axis=1)\n",
    "group_df = group_df.sort_index()\n",
    "nimg_df = pd.merge(nimg_df, group_df, on='doc_id', how='left')\n",
    "nimg_df = nimg_df.dropna()\n",
    "nimg_df.describe()"
   ]
  },
  {
   "cell_type": "code",
   "execution_count": 119,
   "metadata": {},
   "outputs": [],
   "source": [
    "nimg_df[['doc_id', 'number_cntr']].to_csv(\"number_cntr_train.csv\", index=False)"
   ]
  },
  {
   "cell_type": "code",
   "execution_count": null,
   "metadata": {},
   "outputs": [],
   "source": []
  }
 ],
 "metadata": {
  "kernelspec": {
   "display_name": "Python 3",
   "language": "python",
   "name": "python3"
  },
  "language_info": {
   "codemirror_mode": {
    "name": "ipython",
    "version": 3
   },
   "file_extension": ".py",
   "mimetype": "text/x-python",
   "name": "python",
   "nbconvert_exporter": "python",
   "pygments_lexer": "ipython3",
   "version": "3.7.3"
  }
 },
 "nbformat": 4,
 "nbformat_minor": 2
}
