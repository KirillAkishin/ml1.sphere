{
 "cells": [
  {
   "cell_type": "markdown",
   "metadata": {},
   "source": [
    "# Алгоритмы интеллектуальной обработки больших объемов данных\n",
    "## Домашнее задание №2: Линейные модели\n"
   ]
  },
  {
   "cell_type": "markdown",
   "metadata": {},
   "source": [
    "###### <hr\\>\n",
    "**Общая информация**\n",
    "\n",
    "**Срок сдачи:** 24 марта 18:00 Сдача **очная** на занятии. <br\\>\n",
    "\n",
    "\n",
    "Используйте данный Ipython Notebook при оформлении домашнего задания.\n",
    "\n",
    "**Штрафные баллы:**\n",
    "\n",
    "1. Невыполнение PEP8 -1 балл\n",
    "2. Отсутствие фамилии в имени скрипта (скрипт должен называться по аналогии со stroykova_hw2.ipynb) -1 балл\n",
    "3. Все строчки должны быть выполнены. Нужно, чтобы output команды можно было увидеть уже в git'е. В противном случае -1 балл\n",
    "4. При оформлении ДЗ нужно пользоваться данным файлом в качестве шаблона. Не нужно удалять и видоизменять написанный код и текст, если явно не указана такая возможность. В противном случае -1 балл\n",
    "<hr\\>"
   ]
  },
  {
   "cell_type": "code",
   "execution_count": 1,
   "metadata": {},
   "outputs": [],
   "source": [
    "import pandas as pd\n",
    "import numpy as np\n",
    "import matplotlib.pyplot as plt\n",
    "\n",
    "%matplotlib inline\n",
    "\n",
    "plt.style.use('ggplot')\n",
    "plt.rcParams['figure.figsize'] = (12,5)"
   ]
  },
  {
   "cell_type": "markdown",
   "metadata": {},
   "source": [
    "Здравствуйте, уважаемые студенты! \n",
    "\n",
    "В этом задании мы будем реализовать линейные модели. Необходимо реализовать линейную и логистическую регрессии с L2 регуляризацией"
   ]
  },
  {
   "cell_type": "markdown",
   "metadata": {},
   "source": [
    "# Теоретическое введение\n",
    "\n"
   ]
  },
  {
   "cell_type": "markdown",
   "metadata": {},
   "source": [
    "Линейная регрессия решает задачу регрессии и оптимизирует функцию потерь MSE \n",
    "\n",
    "$$L(w) =  \\frac{1}{N}\\left[\\sum_i (y_i - a_i) ^ 2 \\right], $$ где $y_i$ $-$ целевая функция,  $a_i = a(x_i) =  \\langle\\,x_i,w\\rangle ,$ $-$ предсказание алгоритма на объекте $x_i$, $w$ $-$ вектор весов (размерности $D$), $x_i$ $-$ вектор признаков (такой же размерности $D$).\n",
    "\n",
    "Не забываем, что здесь и далее  мы считаем, что в $x_i$ есть тождественный вектор единиц, ему соответствует вес $w_0$.\n"
   ]
  },
  {
   "cell_type": "markdown",
   "metadata": {},
   "source": [
    "Логистическая регрессия является линейным классификатором, который оптимизирует так называемый функционал log loss:"
   ]
  },
  {
   "cell_type": "markdown",
   "metadata": {},
   "source": [
    "$$L(w) = - \\frac{1}{N}\\left[\\sum_i y_i \\log a_i + ( 1 - y_i) \\log (1 - a_i) \\right],$$\n",
    "где  $y_i  \\in \\{0,1\\}$ $-$ метка класса, $a_i$ $-$ предсказание алгоритма на объекте $x_i$. Модель пытается предсказать апостериорую вероятность объекта принадлежать к классу \"1\":\n",
    "$$ p(y_i = 1 | x_i) = a(x_i) =  \\sigma( \\langle\\,x_i,w\\rangle ),$$\n",
    "$w$ $-$ вектор весов (размерности $D$), $x_i$ $-$ вектор признаков (такой же размерности $D$).\n",
    "\n",
    "Функция $\\sigma(x)$ $-$ нелинейная функция, пероводящее скалярное произведение объекта на веса в число $\\in (0,1)$ (мы же моделируем вероятность все-таки!)\n",
    "\n",
    "$$\\sigma(x) = \\frac{1}{1 + \\exp(-x)}$$\n",
    "\n",
    "Если внимательно посмотреть на функцию потерь, то можно заметить, что в зависимости от правильного ответа алгоритм штрафуется или функцией $-\\log a_i$, или функцией $-\\log (1 - a_i)$.\n",
    "\n"
   ]
  },
  {
   "cell_type": "markdown",
   "metadata": {},
   "source": [
    "Часто для решения проблем, которые так или иначе связаны с проблемой переобучения, в функционал качества добавляют слагаемое, которое называют ***регуляризацией***. Итоговый функционал для линейной регрессии тогда принимает вид:\n",
    "\n",
    "$$L(w) =  \\frac{1}{N}\\left[\\sum_i (y_i - a_i) ^ 2 \\right] + \\frac{1}{C}R(w) $$\n",
    "\n",
    "Для логистической: \n",
    "$$L(w) = - \\frac{1}{N}\\left[\\sum_i y_i \\log a_i + ( 1 - y_i) \\log (1 - a_i) \\right] +  \\frac{1}{C}R(w)$$\n",
    "\n",
    "Самое понятие регуляризации введено основателем ВМК академиком Тихоновым https://ru.wikipedia.org/wiki/Метод_регуляризации_Тихонова\n",
    "\n",
    "Идейно методика регуляризации заключается в следующем $-$ мы рассматриваем некорректно поставленную задачу (что это такое можно найти в интернете), для того чтобы сузить набор различных вариантов (лучшие из которых будут являться переобучением ) мы вводим дополнительные ограничения на множество искомых решений. На лекции Вы уже рассмотрели два варианта регуляризации.\n",
    "\n",
    "$L1$ регуляризация:\n",
    "$$R(w) = \\sum_{j=1}^{D}|w_j|$$\n",
    "$L2$ регуляризация:\n",
    "$$R(w) =  \\sum_{j=1}^{D}w_j^2$$\n",
    "\n",
    "С их помощью мы ограничиваем модель в  возможности выбора каких угодно весов минимизирующих наш лосс, модель уже не сможет подстроиться под данные как ей угодно. \n",
    "\n",
    "Вам нужно добавить соотвествущую Вашему варианту $L2$ регуляризацию.\n",
    "\n",
    "И так, мы поняли, какую функцию ошибки будем минимизировать, разобрались, как получить предсказания по объекту и обученным весам. Осталось разобраться, как получить оптимальные веса. Для этого нужно выбрать какой-то метод оптимизации.\n",
    "\n"
   ]
  },
  {
   "cell_type": "markdown",
   "metadata": {},
   "source": [
    "Градиентный спуск является самым популярным алгоритмом обучения линейных моделей. В этом задании Вам предложат реализовать стохастический градиентный спуск или  мини-батч градиентный спуск (мини-батч на русский язык довольно сложно перевести, многие переводят это как \"пакетный\", но мне не кажется этот перевод удачным). Далее нам потребуется определение **эпохи**.\n",
    "Эпохой в SGD и MB-GD называется один проход по **всем** объектам в обучающей выборки.\n",
    "* В SGD градиент расчитывается по одному случайному объекту. Сам алгоритм выглядит примерно так:\n",
    "        1) Перемешать выборку\n",
    "        2) Посчитать градиент функции потерь на одном объекте (далее один объект тоже будем называть батчем)\n",
    "        3) Сделать шаг спуска\n",
    "        4) Повторять 2) и 3) пока не пройдет максимальное число эпох.\n",
    "* В Mini Batch SGD - по подвыборке объектов. Сам алгоритм выглядит примерно так::\n",
    "        1) Перемешать выборку, выбрать размер мини-батча (от 1 до размера выборки)\n",
    "        2) Почитать градиент функции потерь по мини-батчу (не забыть поделить на  число объектов в мини-батче)\n",
    "        3) Сделать шаг спуска\n",
    "        4) Повторять 2) и 3) пока не пройдет максимальное число эпох.\n",
    "* Для отладки алгоритма реализуйте возможность  вывода средней ошибки на обучении модели по объектам (мини-батчам). После шага градиентного спуска посчитайте значение ошибки на объекте (или мини-батче), а затем усредните, например, по ста шагам. Если обучение проходит корректно, то мы должны увидеть, что каждые 100 шагов функция потерь уменьшается. \n",
    "* Правило останова - максимальное количество эпох\n",
    "    \n"
   ]
  },
  {
   "cell_type": "markdown",
   "metadata": {},
   "source": [
    "# Теоретические вопросы (2 балла)\n",
    "В этой части Вам будут предложены теоретичские вопросы и задачи по теме. Вы, конечно, можете списать их у своего товарища или найти решение в интернете, но учтите, что они обязательно войдут в теоретический коллоквиум. Лучше разобраться в теме сейчас и успешно ответить на коллоквиуме, чем списать, не разобравшись в материале, и быть терзаемым совестью. \n",
    "\n",
    "\n",
    "Формулы надо оформлять в формате **LaTeX**."
   ]
  },
  {
   "cell_type": "markdown",
   "metadata": {},
   "source": [
    "Задача 1. Градиент для линейной регрессии.\n",
    "* Выпишите формулу обновления весов для линейной регрессии с L2 регуляризацией для мини-батч градиентого спуска размера $n$:\n",
    "\n",
    "$$ w_{new} = w_{old} - ... $$\n",
    " Отнеситесь к этому пункту максимально серьезно, это Вам нужно будет реализовать в задании.\n",
    " \n",
    "Проанализруйте итоговую формулу градиента - как  интуитивно можно  описать, чему равен градиент?"
   ]
  },
  {
   "cell_type": "markdown",
   "metadata": {},
   "source": [
    "***Ваше решение здесь***\n",
    "$$w^{k+1} = w^{k} - \\alpha^k \\nabla_{w^k} \\left( \\frac{1}{n} \\sum\\limits_{i=1}^n L(w^{k}) + \\frac{1}{\\tilde C} R(w^{k})\\right) = \\\\\n",
    "= w^{k} - \\alpha^k \\left( \\frac{1}{n} \\sum\\limits_{i=1}^n (\\langle x_i, w^k \\rangle - y_i) x_i + \\frac{2}{\\tilde C} w^k \\right) =\\\\\n",
    "= w^{k} - \\alpha^k \\left( \\frac{1}{n} \\sum\\limits_{i=1}^n (\\langle x_i, w^k \\rangle - y_i) x_i + \\frac{1}{C} w^k \\right) ,$$\n",
    "где $w^{k+1} = w_{new},\\; w^{k} = w_{old},\\; C = \\frac{\\tilde C}{2}$.\n",
    "          \n",
    "Символически, формулу для градиента можно описать так:\n",
    "$$ \\nabla_w Q = E[\\nabla_w L] + penalty (w).$$"
   ]
  },
  {
   "cell_type": "markdown",
   "metadata": {},
   "source": [
    "Задача 2. Градиент для логистической регрессии.\n",
    "* Выпишите формулу обновления весов для логистической регрессии с L2 регуляризацией  для мини-батч градиентого спуска размера $n$:\n",
    "\n",
    "$$ w_{new} = w_{old} - ... $$\n",
    "\n",
    " Отнеситесь к этому пункту максимально серьезно, это Вам нужно будет реализовать в задании.\n",
    " \n",
    "Проанализруйте итоговую формулу градиента - как  интуитивно можно  описать, чему равен градиент? Как соотносится этот градиент с градиентом, возникающий в задаче линейной регрессии?\n",
    "\n",
    "Подсказка: Вам градиент, которой получается если “в лоб” продифференцировать,  надо немного преобразовать.\n",
    "Надо подставить, что $1 - \\sigma(w,x) $ это  $1 - a(x_i)$, а  $-\\sigma(w,x)$ это $0 - a(x_i)$.  Тогда получится свести к одной красивой формуле с линейной регрессией, которую программировать будет намного проще."
   ]
  },
  {
   "cell_type": "markdown",
   "metadata": {},
   "source": [
    "***Ваше решение здесь***\n",
    "$$w^{k+1} \n",
    "= w^{k}-\\alpha^k \\nabla_{w^k} \\left( \\frac{1}{n} \\sum\\limits_{i=1}^n L(w^{k}) + \\frac{1}{\\tilde C} R(w^{k})\\right) =\\\\\n",
    "= w^{k}-\\alpha^k \\left( \\frac{1}{n}\\sum\\limits_{i=1}^n (a_i - y_i) x_i + \\frac{1}{C} w^k \\right). $$\n",
    "<br>     \n",
    "       \n",
    "$$ \\nabla_w L(w) \n",
    "= \\nabla_w \\left( y_i \\log a_i + (1 - y_i) \\log(1-a_i) \\right) =\\\\\n",
    "= y_i \\frac{1}{a_i} a_i' + (1-y_i) \\frac{(-1)}{1-a_i}a_i'\n",
    "%%= y_i \\frac{1}{a_i} \\frac{wa_i^2}{e^{wx_i}} + (1-y_i) \\frac{-1}{1-a_i}\\frac{wa_i^2}{e^{wx_i}} \n",
    "= y_i (a_i-1) x_i + (1-y_i) a_i x_i\n",
    "= (a_i - y_i) x_i.\n",
    "$$\n",
    "          \n",
    "<br>     \n",
    "     \n",
    "$$ a_i'  = \\sigma'(\\langle w,x_i \\rangle) \n",
    "= - \\frac{e^{-\\langle w, x_i \\rangle}x_i}{(1 + e^{-\\langle w,x_i \\rangle})^2} \n",
    "= - e^{- \\langle w, x_i \\rangle}  a_i^2 x_i \n",
    "= \\frac{a_i-1}{a_i} a_i^2 x_i  \n",
    "= (a_i-1)a_i x_i.\n",
    "$$"
   ]
  },
  {
   "cell_type": "markdown",
   "metadata": {},
   "source": [
    "Задача 3. Точное решение линейной регрессии\n",
    "\n",
    "На лекции было показано, что точное решение линейной регрессии имеет вид $w = (X^TX)^{-1}X^TY $. \n",
    "* Покажите, что это действительно является точкой минимума в случае, если матрица X имеет строк не меньше, чем столбцов и имеет полный ранг. Подсказка: посчитайте Гессиан и покажите, что в этом случае он положительно определен. \n",
    "* Выпишите точное решение для модели с $L2$ регуляризацией. Как L2 регуляризация помогает с точным решением где матрица X имеет линейно зависимые признаки?"
   ]
  },
  {
   "cell_type": "markdown",
   "metadata": {},
   "source": [
    "***Ваше решение здесь***\n",
    "$$ Q(w) = \\frac{1}{N} (X\\cdot w-y)^T(X\\cdot w-y),$$\n",
    "\n",
    "$$ \\nabla Q(w) = 2X^TXw - 2X^Ty ,$$\n",
    "\n",
    "$$ H(Q(w)) = 2X^TX = \\left( 2 \\langle x_i,x_j \\rangle \\right)_{i,j=1\\ldots D} \\; .$$\n",
    "\n",
    "Так как $x_1,\\ldots x_D \\in \\mathbb{R}^D$ линейно независимы (по условию), то $ H(Q(w)) $ - положительно определенная матрица. Следовательно, $w$ действительно является точкой минимума функции $Q(w)$.\n",
    "\n",
    "\n",
    "\n",
    "$$ Q_r(w) = \\frac{1}{N} (X\\cdot w-y)^T(X\\cdot w-y) + \\alpha R(w), $$\n",
    "\n",
    "$$ \\nabla Q_r(w) = 2X^TXw - 2X^Ty + 2 \\alpha w = 0, $$\n",
    "\n",
    "$$ (X^TX + \\alpha I)w = X^Ty, $$\n",
    "\n",
    "$$ w = (X^TX + \\alpha I)^{-1} X^Ty .$$\n",
    "\n",
    "$L2$ регуляризация уменьшает число обусловленности, повышая точность обращения матрицы, если эта матрица имеет зависимые признаки.\n"
   ]
  },
  {
   "cell_type": "markdown",
   "metadata": {},
   "source": [
    "Задача 4.  Предсказываем вероятности.\n",
    "\n",
    "Когда говорят о логистической регрессии, произносят фразу, что она \"предсказывает вероятности положительного класса\". Давайте разберемся, что же за этим стоит. Посчитаем математическое ожидание функции потерь и проверим, что предсказание алгоритма, оптимизирующее это мат. ожидание, будет являться вероятностью положительного класса. \n",
    "\n",
    "И так, функция потерь на объекте $x_i$, который имеет метку $y_i \\in \\{0,1\\}$  для предсказания $a(x_i)$ равна:\n",
    "$$L(y_i, b) =-[y_i == 1] \\log a(x_i)  - [y_i == 0] \\log(1 - a(x_i)) $$\n",
    "\n",
    "Где $[]$ означает индикатор $-$ он равен единице, если значение внутри него истинно, иначе он равен нулю. Тогда мат. ожидание при условии конкретного $x_i$  по определение мат. ожидания дискретной случайной величины:\n",
    "$$E(L | x_i) = -p(y_i = 1 |x_i ) \\log a(x_i)  - p(y_i = 0 | x_i) \\log( 1 - a(x_i))$$\n",
    "* Докажите, что значение $a(x_i)$, минимизирующее данное мат. ожидание, в точности равно $p(y_i = 1 |x_i)$, то есть равно вероятности положительного класса.\n",
    "\n",
    "Подсказка: возможно, придется воспользоваться, что  $p(y_i = 1 | x_i) + p(y_i = 0 | x_i) = 1$"
   ]
  },
  {
   "cell_type": "markdown",
   "metadata": {},
   "source": [
    "***Ваше решение здесь***\n",
    "\n",
    "$$ ( -p(y_i = 1 |x_i ) \\log a(x_i)  - p(y_i = 0 | x_i) \\log( 1 - a(x_i)) )'_{a(x_i)} = \n",
    "( -p_1 \\log a - p_0 \\log(1-a) )'\n",
    "= 0 $$\n",
    "\n",
    "$$\n",
    "\\frac{-p_1}{a} + \\frac{p_0}{1 - a} =\n",
    "\\frac{-p_1}{a} + \\frac{1 - p_1}{ 1 - a} =\n",
    "0 $$\n",
    "Следовательно $a(x_i) = p_1 = p(y_i = 1 | x_i)$ - точка экстремума.\n",
    "\n",
    "$$ \\left( -p_1 \\log a - p_0 \\log(1-a) \\right)''|_{p_1} = \n",
    "\\frac{1}{p_1} + \\frac{1}{p_0} > 0$$\n",
    "Следовательно, $a(x_i) = p(y_i = 1 | x_i)$ - точка минимума."
   ]
  },
  {
   "cell_type": "markdown",
   "metadata": {},
   "source": [
    "Задача 5.  Смысл регуляризации.\n",
    "\n",
    "Нужно ли в L1/L2 регуляризации использовать свободный член $w_0$ (который не умножается ни на какой признак)?\n",
    "\n",
    "Подсказка: подумайте, для чего мы вводим $w_0$"
   ]
  },
  {
   "cell_type": "markdown",
   "metadata": {},
   "source": [
    "***Ваше решение здесь***\n",
    "<br> Нет. <br>\n",
    "Регуляризация следит за тем, чтобы при маленьком изменении признака не было слишком большого изменения ответа, т.е. за тем, чтобы не было переобучения. Параметр $w_0$ относится к вектору весов для простоты записи. Он не умнажается ни на какой признак, а является всего лишь значением функции в нуле. Поэтому нет никакого смысла ограничивать $w_0$, и сильно уменьшать варианты построения разделяющей гиперплоскости."
   ]
  },
  {
   "cell_type": "markdown",
   "metadata": {},
   "source": [
    "#  Реализация линейной модели (4 балла)"
   ]
  },
  {
   "cell_type": "markdown",
   "metadata": {},
   "source": [
    "## Зачем нужны батчи?\n"
   ]
  },
  {
   "cell_type": "markdown",
   "metadata": {},
   "source": [
    "Как Вы могли заметить из теоретического введения, что в случае SGD, что в случа mini-batch GD,  на каждой итерации обновление весов  происходит только по небольшой части данных (1 пример в случае SGD, batch примеров в случае mini-batch). То есть для каждой итерации нам *** не нужна вся выборка***. Мы можем просто итерироваться по выборке, беря батч нужного размера (далее 1 объект тоже будем называть батчом).\n",
    "\n",
    "Легко заметить, что в этом случае нам не нужно загружать все данные в оперативную память, достаточно просто считать батч с диска, обновить веса, считать диска другой батч и так далее. В целях упрощения домашней работы, прямо с диска  мы считывать не будем, будем работать с обычными numpy array. \n",
    "\n",
    "\n",
    "\n"
   ]
  },
  {
   "cell_type": "markdown",
   "metadata": {},
   "source": [
    "## Немножко про генераторы в Python\n",
    "\n"
   ]
  },
  {
   "cell_type": "markdown",
   "metadata": {},
   "source": [
    "Идея считывания данных кусками удачно ложится на так называемые ***генераторы*** из языка Python. В данной работе Вам предлагается не только разобраться с логистической регрессией, но  и познакомиться с таким важным элементом языка.  При желании Вы можете убрать весь код, связанный с генераторами, и реализовать логистическую регрессию и без них, ***штрафоваться это никак не будет***. Главное, чтобы сама модель была реализована правильно, и все пункты были выполнены. \n",
    "\n",
    "Подробнее можно почитать вот тут https://anandology.com/python-practice-book/iterators.html\n"
   ]
  },
  {
   "cell_type": "markdown",
   "metadata": {},
   "source": [
    "К генератору стоит относиться просто как к функции, которая порождает не один объект, а целую последовательность объектов. Новое значение из последовательности генерируется с помощью ключевого слова ***yield***. Ниже Вы можете насладиться  генератором чисел Фибоначчи."
   ]
  },
  {
   "cell_type": "code",
   "execution_count": 2,
   "metadata": {},
   "outputs": [],
   "source": [
    "def fib(max_iter=4):\n",
    "    a, b = 0, 1\n",
    "    iter_num = 0\n",
    "    while 1:\n",
    "        yield a\n",
    "        a, b = b, a + b\n",
    "        iter_num += 1\n",
    "        if iter_num == max_iter:\n",
    "            break"
   ]
  },
  {
   "cell_type": "markdown",
   "metadata": {},
   "source": [
    "Вот так можно сгенерировать последовательность Фибоначчи. \n",
    "\n",
    "Заметьте, что к генераторам можно применять некоторые стандартные функции из Python, например enumerate."
   ]
  },
  {
   "cell_type": "code",
   "execution_count": 3,
   "metadata": {},
   "outputs": [
    {
     "name": "stdout",
     "output_type": "stream",
     "text": [
      "Fib num: 0 fib values: 0\n",
      "Fib num: 1 fib values: 1\n",
      "Fib num: 2 fib values: 1\n",
      "Fib num: 3 fib values: 2\n"
     ]
    }
   ],
   "source": [
    "new_generator = fib()\n",
    "for j, fib_val in enumerate(new_generator):\n",
    "    print (\"Fib num: \" + str(j) + \" fib values: \" + str(fib_val))"
   ]
  },
  {
   "cell_type": "markdown",
   "metadata": {},
   "source": [
    "Пересоздавая объект, можно сколько угодно раз генерировать заново последовательность. "
   ]
  },
  {
   "cell_type": "code",
   "execution_count": 4,
   "metadata": {},
   "outputs": [
    {
     "name": "stdout",
     "output_type": "stream",
     "text": [
      "Fib num: 0 fib values: 0\n",
      "Fib num: 1 fib values: 1\n",
      "Fib num: 2 fib values: 1\n",
      "Fib num: 3 fib values: 2\n",
      "Fib num: 0 fib values: 0\n",
      "Fib num: 1 fib values: 1\n",
      "Fib num: 2 fib values: 1\n",
      "Fib num: 3 fib values: 2\n",
      "Fib num: 0 fib values: 0\n",
      "Fib num: 1 fib values: 1\n",
      "Fib num: 2 fib values: 1\n",
      "Fib num: 3 fib values: 2\n"
     ]
    }
   ],
   "source": [
    "for i in range(0, 3):\n",
    "    new_generator = fib()\n",
    "    for j, fib_val in enumerate(new_generator):\n",
    "        print (\"Fib num: \" + str(j) + \" fib values: \" + str(fib_val))"
   ]
  },
  {
   "cell_type": "markdown",
   "metadata": {},
   "source": [
    "А вот так уже нельзя."
   ]
  },
  {
   "cell_type": "code",
   "execution_count": 5,
   "metadata": {},
   "outputs": [
    {
     "name": "stdout",
     "output_type": "stream",
     "text": [
      "Fib num: 0 fib values: 0\n",
      "Fib num: 1 fib values: 1\n",
      "Fib num: 2 fib values: 1\n",
      "Fib num: 3 fib values: 2\n"
     ]
    }
   ],
   "source": [
    "new_generator = fib()\n",
    "for i in range(0, 3):\n",
    "    for j, fib_val in enumerate(new_generator):\n",
    "        print (\"Fib num: \" + str(j) + \" fib values: \" + str(fib_val))"
   ]
  },
  {
   "cell_type": "markdown",
   "metadata": {},
   "source": [
    "Концепция крайне удобная для обучения  моделей $-$ у Вас есть некий источник данных, который Вам выдает их кусками, и Вам совершенно все равно откуда он их берет. Под ним может скрывать как массив в оперативной памяти, как файл на жестком диске, так и SQL база данных. Вы сами данные никуда не сохраняете, оперативную память экономите."
   ]
  },
  {
   "cell_type": "markdown",
   "metadata": {},
   "source": [
    "Если Вам понравилась идея с генераторами, то Вы можете реализовать свой, используя прототип batch_generator. В нем Вам нужно выдавать батчи признаков и ответов для каждой новой итерации спуска. Если не понравилась идея, то можете реализовывать SGD или mini-batch GD без генераторов."
   ]
  },
  {
   "cell_type": "code",
   "execution_count": 2,
   "metadata": {},
   "outputs": [],
   "source": [
    "def batch_generator(X, y, shuffle=True, batch_size=1):\n",
    "    \"\"\"\n",
    "    Гератор новых батчей для обучения\n",
    "    X          - матрица объекты-признаки\n",
    "    y_batch    - вектор ответов\n",
    "    shuffle    - нужно ли случайно перемешивать выборку\n",
    "    batch_size - размер батча ( 1 это SGD, > 1 mini-batch GD)\n",
    "    Генерирует подвыборку для итерации спуска (X_batch, y_batch)\n",
    "    \"\"\"\n",
    " \n",
    "    if batch_size > X.shape[0]:\n",
    "        batch_size = X.shape[0]\n",
    "    if shuffle:\n",
    "        new_ids = np.random.permutation(X.shape[0])\n",
    "    else:\n",
    "        new_ids = np.arange(X.shape[0])\n",
    "    number_batches = X.shape[0] // batch_size\n",
    "    for i in range(number_batches):\n",
    "        indices = range(batch_size*i, batch_size*(i+1))\n",
    "        X_batch = X[new_ids[indices]]\n",
    "        y_batch = y[new_ids[indices]]\n",
    "        yield (X_batch, y_batch)\n",
    "    if len(X) % batch_size != 0:\n",
    "        indices = batch_size*(i+1)\n",
    "        X_batch = X[new_ids[indices:]]\n",
    "        y_batch = y[new_ids[indices:]]\n",
    "        yield (X_batch, y_batch)\n",
    "\n",
    "# Теперь можно сделать генератор по данным ()\n",
    "# my_batch_generator = batch_generator(X, y, shuffle=True, batch_size=1):"
   ]
  },
  {
   "cell_type": "code",
   "execution_count": 3,
   "metadata": {},
   "outputs": [],
   "source": [
    "#%%pycodestyle\n",
    "\n",
    "def sigmoid(x):\n",
    "    \"\"\"\n",
    "    Вычисляем значение сигмоида.\n",
    "    X - выход линейной модели\n",
    "    \"\"\"\n",
    "    \n",
    "    sigm_value_x = 1 / (1+np.exp(-x))\n",
    "    return sigm_value_x\n",
    "\n",
    "\n",
    "from sklearn.base import BaseEstimator, ClassifierMixin\n",
    "\n",
    "class MySGDClassifier(BaseEstimator, ClassifierMixin):\n",
    "    \n",
    "    def __init__(self, batch_generator, C=1, alpha=0.01, max_epoch=10, model_type='lin_reg', th=0.5):\n",
    "        \"\"\"\n",
    "        batch_generator -- функция генератор, которой будем создавать батчи\n",
    "        C - коэф. регуляризации\n",
    "        alpha - скорость спуска\n",
    "        max_epoch - максимальное количество эпох\n",
    "        model_type - тим модели, lin_reg или log_reg\n",
    "        \"\"\"\n",
    "        \n",
    "        self.th = th\n",
    "        self.C = C\n",
    "        self.alpha = alpha\n",
    "        self.max_epoch = max_epoch\n",
    "        self.batch_generator = batch_generator\n",
    "        self.errors_log = {'iter' : [], 'loss' : []}  \n",
    "        self.model_type = model_type\n",
    "        self.weights = []\n",
    "        \n",
    "    def calc_loss(self, X_batch, y_batch):\n",
    "        \"\"\"\n",
    "        Считаем функцию потерь по батчу \n",
    "        X_batch - матрица объекты-признаки по батчу\n",
    "        y_batch - вектор ответов по батчу\n",
    "        Не забудте тип модели (линейная или логистическая регрессия)!\n",
    "        \"\"\"\n",
    "        \n",
    "        loss = 0.\n",
    "        if self.model_type == 'lin_reg':\n",
    "            for x, y in zip(X_batch, y_batch):\n",
    "                a = np.dot(x, self.weights)\n",
    "                loss += (a-y)**2\n",
    "            loss /= len(y_batch)\n",
    "            loss += np.dot(self.weights[1:], self.weights[1:]) / self.C\n",
    "        elif self.model_type == 'log_reg':\n",
    "            for x, y in zip(X_batch, y_batch):\n",
    "                a = sigmoid(np.dot(x, self.weights))\n",
    "                loss -= y * np.log2(a) + (1-y) * np.log2(1-a)\n",
    "            loss /= len(y_batch)\n",
    "            loss += np.dot(self.weights[1:], self.weights[1:]) / self.C\n",
    "        return loss\n",
    "    \n",
    "    def calc_loss_grad(self, X_batch, y_batch):\n",
    "        \"\"\"\n",
    "        Считаем  градиент функции потерь по батчу (то что Вы вывели в задании 1)\n",
    "        X_batch - матрица объекты-признаки по батчу\n",
    "        y_batch - вектор ответов по батчу\n",
    "        Не забудте тип модели (линейная или логистическая регрессия)!\n",
    "        \"\"\"\n",
    "        \n",
    "        loss_grad = 0.\n",
    "        if self.model_type == 'lin_reg':\n",
    "            for x, y in zip(X_batch, y_batch):\n",
    "                a = np.dot(x, self.weights)\n",
    "                loss_grad += (a-y)*x\n",
    "            loss_grad /= len(y_batch)\n",
    "            R = self.weights / self.C\n",
    "            R[0] = 0\n",
    "            loss_grad += R\n",
    "        elif self.model_type == 'log_reg':\n",
    "            for x, y in zip(X_batch, y_batch):\n",
    "                dot = np.dot(x, self.weights)\n",
    "                a = sigmoid(dot)\n",
    "                loss_grad += (a-y)*x\n",
    "            loss_grad /= len(y_batch)\n",
    "            R = self.weights / self.C\n",
    "            R[0] = 0\n",
    "            loss_grad += R\n",
    "        return loss_grad\n",
    "    \n",
    "    def update_weights(self, new_grad):\n",
    "        \"\"\"\n",
    "        Обновляем вектор весов\n",
    "        new_grad - градиент по батчу\n",
    "        \"\"\"\n",
    "        \n",
    "        alpha_k = self.alpha / self.curr_epoch**(0.005)\n",
    "        self.weights = self.weights - alpha_k * new_grad\n",
    "    \n",
    "    def fit(self, X, y):\n",
    "        '''\n",
    "        Обучение модели\n",
    "        X - матрица объекты-признаки\n",
    "        y - вектор ответов\n",
    "        '''\n",
    "        \n",
    "        if self.model_type == 'lin_reg':\n",
    "            y = y - np.mean(y)\n",
    "        X = np.hstack((np.ones((X.shape[0],1)), X))\n",
    "        self.weights = X[np.random.randint(0, X.shape[0]-1)]\n",
    "        self.curr_epoch = 0\n",
    "        for n in range(0, self.max_epoch):\n",
    "            self.curr_epoch += 1\n",
    "            new_epoch_generator = self.batch_generator(X, y, shuffle=True, batch_size=50)\n",
    "            for batch_num, new_batch in enumerate(new_epoch_generator):\n",
    "                X_batch = new_batch[0]\n",
    "                y_batch = new_batch[1]\n",
    "                batch_grad = self.calc_loss_grad(X_batch, y_batch)\n",
    "                self.update_weights(batch_grad)\n",
    "                batch_loss = self.calc_loss(X_batch, y_batch)\n",
    "                self.errors_log['iter'].append(batch_num)\n",
    "                self.errors_log['loss'].append(batch_loss)\n",
    "                \n",
    "        return self\n",
    "        \n",
    "    def predict(self, X):\n",
    "        '''\n",
    "        Предсказание класса\n",
    "        X - матрица объекты-признаки\n",
    "        Не забудте тип модели (линейная или логистическая регрессия)!\n",
    "        '''\n",
    "        \n",
    "        X = np.hstack((np.ones((X.shape[0],1)), X))\n",
    "        y_hat = np.array([])        \n",
    "        if self.model_type == 'lin_reg':\n",
    "            dot_func = lambda x: np.dot(x, self.weights)\n",
    "            y_hat = np.apply_along_axis(dot_func, 1, X)\n",
    "\n",
    "        elif self.model_type == 'log_reg':\n",
    "            dot_func = lambda x: True if (sigmoid(np.dot(x, self.weights)) - self.th > 0) else False\n",
    "            y_hat = np.apply_along_axis(dot_func, 1, X).astype(int)\n",
    "    \n",
    "        return y_hat"
   ]
  },
  {
   "cell_type": "markdown",
   "metadata": {},
   "source": [
    "Запустите обе регрессии на синтетических данных. \n",
    "\n",
    "\n",
    "Выведите полученные веса и нарисуйте разделяющую границу между классами (используйте только первых два веса для первых двух признаков X[:,0], X[:,1] для отображения в 2d пространство ).  "
   ]
  },
  {
   "cell_type": "code",
   "execution_count": 4,
   "metadata": {},
   "outputs": [],
   "source": [
    "def plot_decision_boundary(clf):\n",
    "    x_1 = 0\n",
    "    x_2 = - clf.weights[0] / clf.weights[1]\n",
    "    f_0 = [x_1, x_2]\n",
    "    \n",
    "    x_1 = - clf.weights[0] / clf.weights[2]\n",
    "    x_2 = 0\n",
    "    f_1 = [x_1, x_2]\n",
    "    \n",
    "    plt.plot(f_0, f_1)"
   ]
  },
  {
   "cell_type": "code",
   "execution_count": 5,
   "metadata": {},
   "outputs": [
    {
     "name": "stdout",
     "output_type": "stream",
     "text": [
      "weights to lin_reg: [-0.62448054  0.14490744 -0.1696018 ]\n",
      "weights to log_reg: [-4.06414514  0.93829423 -0.94721768]\n"
     ]
    },
    {
     "data": {
      "text/plain": [
       "<matplotlib.collections.PathCollection at 0x7f5c800cca20>"
      ]
     },
     "execution_count": 5,
     "metadata": {},
     "output_type": "execute_result"
    },
    {
     "data": {
      "image/png": "[encoded data removed]",
      "text/plain": [
       "<Figure size 432x288 with 1 Axes>"
      ]
     },
     "metadata": {
      "needs_background": "light"
     },
     "output_type": "display_data"
    }
   ],
   "source": [
    "np.random.seed(0)\n",
    "\n",
    "C1 = np.array([[0., -0.8], [1.5, 0.8]])\n",
    "C2 = np.array([[1., -0.7], [2., 0.7]])\n",
    "gauss1 = np.dot(np.random.randn(200, 2) + np.array([5, 3]), C1)\n",
    "gauss2 = np.dot(np.random.randn(200, 2) + np.array([1.5, 0]), C2)\n",
    "\n",
    "X = np.vstack([gauss1, gauss2])\n",
    "y = np.r_[np.ones(200), np.zeros(200)]\n",
    "        \n",
    "lin_reg = MySGDClassifier(batch_generator=batch_generator, model_type='lin_reg', alpha=0.05, C=100, max_epoch=100)\n",
    "lin_reg.fit(X,y)\n",
    "plot_decision_boundary(lin_reg)\n",
    "print(\"weights to lin_reg:\", lin_reg.weights)\n",
    "\n",
    "log_reg = MySGDClassifier(batch_generator=batch_generator, model_type='log_reg', alpha=0.05, C=100, max_epoch=250)\n",
    "log_reg.fit(X,y)\n",
    "plot_decision_boundary(log_reg)\n",
    "print(\"weights to log_reg:\", log_reg.weights)\n",
    "\n",
    "plt.scatter(X[:,0], X[:,1], c=y)"
   ]
  },
  {
   "cell_type": "markdown",
   "metadata": {},
   "source": [
    "Далее будем анализировать Ваш алгоритм. \n",
    "Для этих заданий используйте датасет ниже."
   ]
  },
  {
   "cell_type": "code",
   "execution_count": 10,
   "metadata": {},
   "outputs": [],
   "source": [
    "from sklearn.datasets import make_classification"
   ]
  },
  {
   "cell_type": "code",
   "execution_count": 11,
   "metadata": {},
   "outputs": [],
   "source": [
    "X, y = make_classification(n_samples=100000, n_features=10, \n",
    "                           n_informative=4, n_redundant=0, \n",
    "                           random_state=123, class_sep=1.0,\n",
    "                           n_clusters_per_class=1)"
   ]
  },
  {
   "cell_type": "markdown",
   "metadata": {},
   "source": [
    "Покажите сходимости обеих регрессией на этом датасете: изобразите график  функции потерь, усредненной по $N$ шагам градиентого спуска, для разных `alpha` (размеров шага). Разные `alpha` расположите на одном графике. \n",
    "\n",
    "$N$ можно брать 10, 50, 100 и т.д. "
   ]
  },
  {
   "cell_type": "code",
   "execution_count": 12,
   "metadata": {},
   "outputs": [],
   "source": [
    "## Your Code Here\n",
    "def plot_loss(model):\n",
    "    max_epoch = model.max_epoch\n",
    "    N = len(model.errors_log['loss']) // max_epoch\n",
    "    y_data = np.array([])\n",
    "    x_data = np.array([])\n",
    "    for i in range(max_epoch):\n",
    "        x_data = np.append(x_data, i)\n",
    "        y_data = np.append(y_data, np.mean(model.errors_log['loss'][N*i : N*(i+1)]))\n",
    "    plt.plot(x_data, y_data)"
   ]
  },
  {
   "cell_type": "code",
   "execution_count": 13,
   "metadata": {},
   "outputs": [
    {
     "name": "stderr",
     "output_type": "stream",
     "text": [
      "/home/kirill/anaconda3/lib/python3.7/site-packages/ipykernel_launcher.py:53: RuntimeWarning: divide by zero encountered in log2\n"
     ]
    },
    {
     "data": {
      "image/png": "[encoded data removed]",
      "text/plain": [
       "<Figure size 432x288 with 1 Axes>"
      ]
     },
     "metadata": {
      "needs_background": "light"
     },
     "output_type": "display_data"
    }
   ],
   "source": [
    "for alpha in np.logspace(-3, -6, 10):\n",
    "    log_reg = MySGDClassifier(batch_generator=batch_generator, max_epoch=11, model_type='log_reg', alpha=alpha)\n",
    "    log_reg.fit(X,y)\n",
    "    plot_loss(log_reg)"
   ]
  },
  {
   "cell_type": "code",
   "execution_count": 14,
   "metadata": {},
   "outputs": [
    {
     "data": {
      "image/png": "[encoded data removed]",
      "text/plain": [
       "<Figure size 432x288 with 1 Axes>"
      ]
     },
     "metadata": {
      "needs_background": "light"
     },
     "output_type": "display_data"
    }
   ],
   "source": [
    "for alpha in np.logspace(-3, -6, 10):\n",
    "    lin_reg = MySGDClassifier(batch_generator=batch_generator, max_epoch=11, model_type='lin_reg', alpha=alpha)\n",
    "    lin_reg.fit(X,y)\n",
    "    plot_loss(lin_reg)"
   ]
  },
  {
   "cell_type": "markdown",
   "metadata": {},
   "source": [
    "Что Вы можете сказать про сходимость метода при различных `alpha`? Какое значение стоит выбирать для лучшей сходимости?"
   ]
  },
  {
   "cell_type": "markdown",
   "metadata": {},
   "source": [
    "Изобразите график среднего значения весов для обеих регрессий в зависимости от коеф. регуляризации С из `np.logspace(3, -3, 10)` "
   ]
  },
  {
   "cell_type": "code",
   "execution_count": 15,
   "metadata": {},
   "outputs": [
    {
     "name": "stderr",
     "output_type": "stream",
     "text": [
      "/home/kirill/anaconda3/lib/python3.7/site-packages/ipykernel_launcher.py:47: RuntimeWarning: overflow encountered in double_scalars\n",
      "/home/kirill/anaconda3/lib/python3.7/site-packages/ipykernel_launcher.py:49: RuntimeWarning: overflow encountered in double_scalars\n",
      "/home/kirill/anaconda3/lib/python3.7/site-packages/ipykernel_launcher.py:70: RuntimeWarning: overflow encountered in add\n",
      "/home/kirill/anaconda3/lib/python3.7/site-packages/ipykernel_launcher.py:70: RuntimeWarning: invalid value encountered in add\n",
      "/home/kirill/anaconda3/lib/python3.7/site-packages/ipykernel_launcher.py:93: RuntimeWarning: invalid value encountered in subtract\n",
      "/home/kirill/anaconda3/lib/python3.7/site-packages/ipykernel_launcher.py:53: RuntimeWarning: divide by zero encountered in log2\n",
      "/home/kirill/anaconda3/lib/python3.7/site-packages/ipykernel_launcher.py:53: RuntimeWarning: invalid value encountered in multiply\n",
      "/home/kirill/anaconda3/lib/python3.7/site-packages/ipykernel_launcher.py:55: RuntimeWarning: overflow encountered in double_scalars\n",
      "/home/kirill/anaconda3/lib/python3.7/site-packages/ipykernel_launcher.py:72: RuntimeWarning: overflow encountered in true_divide\n",
      "/home/kirill/anaconda3/lib/python3.7/site-packages/ipykernel_launcher.py:81: RuntimeWarning: overflow encountered in true_divide\n"
     ]
    },
    {
     "data": {
      "text/plain": [
       "[<matplotlib.lines.Line2D at 0x7fb14eebc198>]"
      ]
     },
     "execution_count": 15,
     "metadata": {},
     "output_type": "execute_result"
    },
    {
     "data": {
      "image/png": "[encoded data removed]",
      "text/plain": [
       "<Figure size 432x288 with 1 Axes>"
      ]
     },
     "metadata": {
      "needs_background": "light"
     },
     "output_type": "display_data"
    }
   ],
   "source": [
    "## Your Code Here\n",
    "lin_x = np.array([])\n",
    "lin_y = np.array([])\n",
    "log_x = np.array([])\n",
    "log_y = np.array([])\n",
    "for C in np.logspace(3, -3, 10):\n",
    "    lin_reg = MySGDClassifier(batch_generator=batch_generator, model_type='lin_reg', C=C)\n",
    "    lin_reg.fit(X,y)\n",
    "    lin_x = np.append(lin_x, np.log10(C))\n",
    "    lin_y = np.append(lin_y, np.mean(np.abs(lin_reg.weights)))\n",
    "    \n",
    "    log_reg = MySGDClassifier(batch_generator=batch_generator, model_type='log_reg', C=C)\n",
    "    log_reg.fit(X,y)\n",
    "    log_x = np.append(log_x, np.log10(C))\n",
    "    log_y = np.append(log_y, np.mean(np.abs(log_reg.weights)))\n",
    "    \n",
    "plt.plot(lin_x, lin_y)\n",
    "plt.plot(log_x, log_y)"
   ]
  },
  {
   "cell_type": "markdown",
   "metadata": {},
   "source": [
    "Довольны ли Вы, насколько сильно уменьшились Ваши веса? "
   ]
  },
  {
   "cell_type": "markdown",
   "metadata": {},
   "source": [
    "# Боевое применение (4  балла)\n",
    "\n",
    "**Защита данной части возможна только при преодолении в проекте бейзлайна Handmade baseline.**"
   ]
  },
  {
   "cell_type": "markdown",
   "metadata": {},
   "source": [
    "Давайте применим модель на итоговом проекте! Датасет сделаем точно таким же образом, как было показано в project_overview.ipynb\n",
    "\n",
    "Применим обе регрессии, подберем для них параметры и сравним качество. Может быть Вы еще одновременно с решением домашней работы подрастете на лидерборде!"
   ]
  },
  {
   "cell_type": "code",
   "execution_count": 6,
   "metadata": {},
   "outputs": [
    {
     "name": "stdout",
     "output_type": "stream",
     "text": [
      "28026\n"
     ]
    }
   ],
   "source": [
    "doc_to_title = {}\n",
    "with open('docs_titles.tsv') as f:\n",
    "    for num_line, line in enumerate(f):\n",
    "        if num_line == 0:\n",
    "            continue\n",
    "        data = line.strip().split('\\t', 1)\n",
    "        doc_id = int(data[0])\n",
    "        if len(data) == 1:\n",
    "            title = ''\n",
    "        else:\n",
    "            title = data[1]\n",
    "        doc_to_title[doc_id] = title\n",
    "print (len(doc_to_title))\n"
   ]
  },
  {
   "cell_type": "code",
   "execution_count": 7,
   "metadata": {},
   "outputs": [],
   "source": [
    "import pandas as pd\n",
    "train_data = pd.read_csv('train_groups.csv')\n",
    "traingroups_titledata = {}\n",
    "for i in range(len(train_data)):\n",
    "    new_doc = train_data.iloc[i]\n",
    "    doc_group = new_doc['group_id']\n",
    "    doc_id = new_doc['doc_id']\n",
    "    target = new_doc['target']\n",
    "    title = doc_to_title[doc_id]\n",
    "    if doc_group not in traingroups_titledata:\n",
    "        traingroups_titledata[doc_group] = []\n",
    "    traingroups_titledata[doc_group].append((doc_id, title, target))"
   ]
  },
  {
   "cell_type": "code",
   "execution_count": 8,
   "metadata": {},
   "outputs": [
    {
     "name": "stdout",
     "output_type": "stream",
     "text": [
      "(11690, 15) (11690,) (11690,)\n"
     ]
    }
   ],
   "source": [
    "import numpy as np\n",
    "y_train = []\n",
    "X_train = []\n",
    "groups_train = []\n",
    "for new_group in traingroups_titledata:\n",
    "    docs = traingroups_titledata[new_group]\n",
    "    for k, (doc_id, title, target_id) in enumerate(docs):\n",
    "        y_train.append(target_id)\n",
    "        groups_train.append(new_group)\n",
    "        all_dist = []\n",
    "        words = set(title.strip().split())\n",
    "        for j in range(0, len(docs)):\n",
    "            if k == j:\n",
    "                continue\n",
    "            doc_id_j, title_j, target_j = docs[j]\n",
    "            words_j = set(title_j.strip().split())\n",
    "            all_dist.append(len(words.intersection(words_j)))\n",
    "        X_train.append(sorted(all_dist, reverse=True)[0:15]    )\n",
    "X_train = np.array(X_train)\n",
    "y_train = np.array(y_train)\n",
    "groups_train = np.array(groups_train)\n",
    "print (X_train.shape, y_train.shape, groups_train.shape)"
   ]
  },
  {
   "cell_type": "markdown",
   "metadata": {},
   "source": [
    "Подберите размер батча для обучения. Линейная модель не должна учиться дольше нескольких минут. \n",
    "\n",
    "Не забывайте использовать скейлер!"
   ]
  },
  {
   "cell_type": "code",
   "execution_count": 9,
   "metadata": {},
   "outputs": [],
   "source": [
    "from sklearn.metrics import f1_score\n",
    "from sklearn.linear_model import LinearRegression\n",
    "from sklearn.preprocessing import StandardScaler"
   ]
  },
  {
   "cell_type": "code",
   "execution_count": 10,
   "metadata": {},
   "outputs": [],
   "source": [
    "scaler = StandardScaler()\n",
    "scaler.fit(X_train)\n",
    "X_train_scale = scaler.transform(X_train)"
   ]
  },
  {
   "cell_type": "code",
   "execution_count": 13,
   "metadata": {},
   "outputs": [
    {
     "name": "stdout",
     "output_type": "stream",
     "text": [
      "Predict to X_train_scale: 0.5226149752945648\n"
     ]
    },
    {
     "name": "stderr",
     "output_type": "stream",
     "text": [
      "/home/kirill/anaconda3/lib/python3.7/site-packages/ipykernel_launcher.py:53: RuntimeWarning: divide by zero encountered in log2\n",
      "/home/kirill/anaconda3/lib/python3.7/site-packages/ipykernel_launcher.py:53: RuntimeWarning: invalid value encountered in multiply\n"
     ]
    },
    {
     "name": "stdout",
     "output_type": "stream",
     "text": [
      "Predict to X_train: 0.38310236924452384\n"
     ]
    }
   ],
   "source": [
    "log_reg = MySGDClassifier(batch_generator=batch_generator, model_type='log_reg', alpha=0.1, C=1000)\n",
    "log_reg.fit(X_train_scale,y_train)\n",
    "my_pred = log_reg.predict(X_train_scale)\n",
    "print(\"Predict to X_train_scale:\", f1_score(y_train, my_pred, average='binary'))\n",
    "\n",
    "log_reg.fit(X_train,y_train)\n",
    "my_pred = log_reg.predict(X_train)\n",
    "print(\"Predict to X_train:\", f1_score(y_train, my_pred, average='binary'))"
   ]
  },
  {
   "cell_type": "markdown",
   "metadata": {},
   "source": [
    "Разбейте данные на обучение и валидацию. Подберите параметры C, alpha, max_epoch, model_type на валидации (Вы же помните, как правильно в этой задаче делать валидацию?)"
   ]
  },
  {
   "cell_type": "code",
   "execution_count": 22,
   "metadata": {},
   "outputs": [],
   "source": [
    "def kfold_generator(groups_train, n_splits=10):\n",
    "    all_groups = np.unique(groups_train)\n",
    "    fold_size = len(all_groups) // n_splits\n",
    "    all_groups = np.random.permutation(all_groups)\n",
    "    fold_groups = np.zeros((n_splits,fold_size), dtype=int)\n",
    "    for i, group in enumerate(all_groups):\n",
    "        fold = i // fold_size\n",
    "        if fold == n_splits:\n",
    "            break\n",
    "        group_i = i % fold_size\n",
    "        fold_groups[fold,group_i] = group\n",
    "    fold_indices = {}\n",
    "    for fold in range(n_splits):\n",
    "        indices = np.array([], dtype = int)\n",
    "        for group in fold_groups[fold]:\n",
    "            indices = np.append(indices, np.argwhere(groups_train == group))\n",
    "        fold_indices[fold] = indices\n",
    "\n",
    "    for i in fold_indices:\n",
    "        kf_test = fold_indices[i]\n",
    "        kf_train = np.array([],dtype=int)\n",
    "        for j in fold_indices:\n",
    "            if i == j:\n",
    "                continue\n",
    "            kf_train = np.append(kf_train, fold_indices[j])\n",
    "        kf_tuple = [kf_train, kf_test]\n",
    "        yield (kf_train, kf_test)\n",
    "        \n",
    "def cross_validation(model, groups_train, kfold_generator, X, y, folds=10, verbose=False):    \n",
    "    total_score = 0\n",
    "    for i, tuple_indices in enumerate(kfold_generator(groups_train, n_splits=folds)):\n",
    "        train_index, test_index = tuple_indices\n",
    "        X_train, X_test = X[train_index], X[test_index]\n",
    "        y_train, y_test = y[train_index], y[test_index]\n",
    "\n",
    "        model.fit(X_train, y_train)\n",
    "        y_pred = model.predict(X_test)\n",
    "        if model.model_type == 'lin_reg':\n",
    "            score = f1_score(y_test, np.around(y_pred).astype(int).astype(bool))\n",
    "        else:\n",
    "            score = f1_score(y_test, y_pred)\n",
    "        total_score += score\n",
    "        if verbose:\n",
    "            print(i, \"score:\", f1_score(y_test, y_pred))\n",
    "    mean_score = total_score / folds\n",
    "    if verbose:\n",
    "        print(\"MEAN_SCORE:\", mean_score)\n",
    "    return mean_score\n",
    "\n",
    "def grid_cv(alpha_list, C_list, max_epoch_list, th_list, \n",
    "            X, y, groups_train, kfold_generator, batch_generator, \n",
    "            model_type='log_reg', folds=10, verbose=True):\n",
    "    sample_scores = np.array([])\n",
    "    sample_params = []\n",
    "    for alpha in alpha_list:\n",
    "        for C in C_list:\n",
    "            for max_epoch in max_epoch_list:\n",
    "                for th in th_list:                        \n",
    "                    model = MySGDClassifier(batch_generator=batch_generator, model_type=model_type, \n",
    "                                            alpha=alpha, C=C, th=th, max_epoch=max_epoch)\n",
    "                    curr_mean_score = cross_validation(model, groups_train, kfold_generator, X, y, folds=folds)\n",
    "                    sample_scores = np.append(sample_scores, curr_mean_score)\n",
    "                    sample_tuple = (alpha, C, th, max_epoch)\n",
    "                    sample_params.append(sample_tuple)\n",
    "                    if verbose:\n",
    "                        print(\"SCORE: \", curr_mean_score, end='\\t\\t')\n",
    "                        print(\"(alpha = %s; C = %s; max_epoch = %s; th = %s)\" % (alpha, C, max_epoch, th))\n",
    "    best_score_index = np.argmax(sample_scores)\n",
    "    best_score = sample_scores[best_score_index]\n",
    "    best_params = sample_params[best_score_index]\n",
    "    if verbose:\n",
    "        print(\"\\nBEST SCORE:\\t\", best_score)\n",
    "        print(\"BEST PARAMS:\\t\", best_params)\n",
    "    return best_score, best_params, sample_scores, sample_params"
   ]
  },
  {
   "cell_type": "markdown",
   "metadata": {
    "collapsed": true
   },
   "source": [
    "Подберите порог линейной модели, по достижении которого, Вы будете относить объект к классу 1. Вспомните, какую метрику мы оптимизируем в соревновании.  Как тогда правильно подобрать порог?"
   ]
  },
  {
   "cell_type": "code",
   "execution_count": 23,
   "metadata": {},
   "outputs": [
    {
     "name": "stderr",
     "output_type": "stream",
     "text": [
      "/home/kirill/anaconda3/lib/python3.7/site-packages/ipykernel_launcher.py:47: RuntimeWarning: overflow encountered in double_scalars\n",
      "/home/kirill/anaconda3/lib/python3.7/site-packages/ipykernel_launcher.py:70: RuntimeWarning: overflow encountered in multiply\n",
      "/home/kirill/anaconda3/lib/python3.7/site-packages/ipykernel_launcher.py:70: RuntimeWarning: overflow encountered in add\n",
      "/home/kirill/anaconda3/lib/python3.7/site-packages/ipykernel_launcher.py:70: RuntimeWarning: invalid value encountered in add\n",
      "/home/kirill/anaconda3/lib/python3.7/site-packages/ipykernel_launcher.py:49: RuntimeWarning: overflow encountered in double_scalars\n"
     ]
    },
    {
     "data": {
      "text/plain": [
       "(0.44911481663603875, (1.0, 31.622776601683793, 0.5, 10))"
      ]
     },
     "execution_count": 23,
     "metadata": {},
     "output_type": "execute_result"
    }
   ],
   "source": [
    "alpha_list = np.linspace(0.00001, 1, 3)\n",
    "C_list = np.logspace(-1, 4, 3)\n",
    "max_epoch_list = [10]\n",
    "th_list = np.linspace(0.2, 0.8, 3)\n",
    "\n",
    "best_score, best_params, _, _ = grid_cv(alpha_list, C_list, max_epoch_list, th_list, \n",
    "                                        X_train_scale, y_train, groups_train, kfold_generator, batch_generator, \n",
    "                                        model_type='lin_reg', folds=4, verbose=False);\n",
    "best_score, best_params"
   ]
  },
  {
   "cell_type": "code",
   "execution_count": 24,
   "metadata": {},
   "outputs": [
    {
     "name": "stderr",
     "output_type": "stream",
     "text": [
      "/home/kirill/anaconda3/lib/python3.7/site-packages/ipykernel_launcher.py:53: RuntimeWarning: divide by zero encountered in log2\n",
      "/home/kirill/anaconda3/lib/python3.7/site-packages/ipykernel_launcher.py:53: RuntimeWarning: invalid value encountered in multiply\n",
      "/home/kirill/anaconda3/lib/python3.7/site-packages/ipykernel_launcher.py:55: RuntimeWarning: overflow encountered in double_scalars\n",
      "/home/kirill/anaconda3/lib/python3.7/site-packages/ipykernel_launcher.py:81: RuntimeWarning: overflow encountered in true_divide\n",
      "/home/kirill/anaconda3/lib/python3.7/site-packages/sklearn/metrics/classification.py:1437: UndefinedMetricWarning: F-score is ill-defined and being set to 0.0 due to no predicted samples.\n",
      "  'precision', 'predicted', average, warn_for)\n",
      "/home/kirill/anaconda3/lib/python3.7/site-packages/ipykernel_launcher.py:93: RuntimeWarning: invalid value encountered in subtract\n"
     ]
    },
    {
     "data": {
      "text/plain": [
       "(0.6015743598353689, (1.0, 10000.0, 0.2, 10))"
      ]
     },
     "execution_count": 24,
     "metadata": {},
     "output_type": "execute_result"
    }
   ],
   "source": [
    "alpha_list = np.linspace(0.00001, 1, 3)\n",
    "C_list = np.logspace(-1, 4, 3)\n",
    "max_epoch_list = [10]\n",
    "th_list = np.linspace(0.2, 0.8, 3)\n",
    "\n",
    "best_score, best_params, _, _ = grid_cv(alpha_list, C_list, max_epoch_list, th_list, \n",
    "                                        X_train_scale, y_train, groups_train, kfold_generator, batch_generator, \n",
    "                                        model_type='log_reg', folds=4, verbose=False);\n",
    "best_score, best_params"
   ]
  },
  {
   "cell_type": "markdown",
   "metadata": {},
   "source": [
    "С лучшими параметрами на валидации сделайте предсказание на тестовом множестве, отправьте его на проверку на платформу kaggle. Убедитесь, что Вы смогли побить public score первого бейзлайна."
   ]
  },
  {
   "cell_type": "markdown",
   "metadata": {
    "collapsed": true
   },
   "source": [
    "** При сдаче домашки Вам необходимо кроме ссылки на ноутбук показать Ваш ник на kaggle, под которым Вы залили решение, которое побило Handmade baseline. **"
   ]
  },
  {
   "cell_type": "code",
   "execution_count": 25,
   "metadata": {},
   "outputs": [],
   "source": [
    "def write_to_submission_file(predicted_labels, test_data, out_file, target='target', index_label=\"pair_id\"):\n",
    "    # turn predictions into data frame and save as csv file\n",
    "    predicted_df = pd.DataFrame(predicted_labels, index = np.asarray(test_data[index_label]), columns=[target])\n",
    "    predicted_df.to_csv(out_file, index_label=index_label)"
   ]
  },
  {
   "cell_type": "code",
   "execution_count": 26,
   "metadata": {},
   "outputs": [
    {
     "name": "stdout",
     "output_type": "stream",
     "text": [
      "(16627, 15) (16627,) (16627,)\n"
     ]
    }
   ],
   "source": [
    "test_data = pd.read_csv(\"test_groups.csv\") \n",
    "testgroups_titledata = {}\n",
    "for i in range(len(test_data)):\n",
    "    new_doc = test_data.iloc[i]\n",
    "    doc_group = new_doc['group_id']\n",
    "    doc_id = new_doc['doc_id']\n",
    "    title = doc_to_title[doc_id]\n",
    "    if doc_group not in testgroups_titledata:\n",
    "        testgroups_titledata[doc_group] = []\n",
    "    testgroups_titledata[doc_group].append((doc_id, title, target))\n",
    "    \n",
    "y_test = []\n",
    "X_test = []\n",
    "groups_train = []\n",
    "for new_group in testgroups_titledata:\n",
    "    docs = testgroups_titledata[new_group]\n",
    "    for k, (doc_id, title, target_id) in enumerate(docs):\n",
    "        y_test.append(target_id)\n",
    "        groups_train.append(new_group)\n",
    "        all_dist = []\n",
    "        words = set(title.strip().split())\n",
    "        for j in range(0, len(docs)):\n",
    "            if k == j:\n",
    "                continue\n",
    "            doc_id_j, title_j, target_j = docs[j]\n",
    "            words_j = set(title_j.strip().split())\n",
    "            all_dist.append(len(words.intersection(words_j)))\n",
    "        X_test.append(sorted(all_dist, reverse=True)[0:15]    )\n",
    "X_test = np.array(X_test)\n",
    "y_test = np.array(y_test)\n",
    "groups_train = np.array(groups_train)\n",
    "print (X_test.shape, y_test.shape, groups_train.shape)\n",
    "\n",
    "scaler = StandardScaler()\n",
    "scaler.fit(X_test)\n",
    "X_test_scale = scaler.transform(X_test)"
   ]
  },
  {
   "cell_type": "code",
   "execution_count": 27,
   "metadata": {},
   "outputs": [
    {
     "name": "stderr",
     "output_type": "stream",
     "text": [
      "/home/kirill/anaconda3/lib/python3.7/site-packages/ipykernel_launcher.py:53: RuntimeWarning: divide by zero encountered in log2\n",
      "/home/kirill/anaconda3/lib/python3.7/site-packages/ipykernel_launcher.py:53: RuntimeWarning: invalid value encountered in multiply\n"
     ]
    }
   ],
   "source": [
    "log_reg = MySGDClassifier(batch_generator=batch_generator, model_type='log_reg', alpha=0.1, C=600, th=0.3, max_epoch=10)\n",
    "log_reg.fit(X_train_scale, y_train)\n",
    "y_pred = log_reg.predict(X_test_scale)\n",
    "write_to_submission_file(y_pred, test_data, \"y_pred.csv\")"
   ]
  },
  {
   "cell_type": "code",
   "execution_count": 28,
   "metadata": {},
   "outputs": [
    {
     "data": {
      "text/plain": [
       "array([-1.07000869, -0.11905394,  0.22587675,  0.21631733,  0.0669268 ,\n",
       "        0.18233309, -0.06587198,  0.25307932,  0.12393003,  0.10897877,\n",
       "        0.04700133,  0.10467245,  0.00839267, -0.07393478, -0.03943698,\n",
       "        0.32341283])"
      ]
     },
     "execution_count": 28,
     "metadata": {},
     "output_type": "execute_result"
    }
   ],
   "source": [
    "log_reg.weights"
   ]
  },
  {
   "cell_type": "code",
   "execution_count": 29,
   "metadata": {},
   "outputs": [
    {
     "data": {
      "text/plain": [
       "(array([0, 1]), array([11439,  5188]))"
      ]
     },
     "execution_count": 29,
     "metadata": {},
     "output_type": "execute_result"
    }
   ],
   "source": [
    "np.unique(y_pred, return_counts=True)"
   ]
  },
  {
   "cell_type": "markdown",
   "metadata": {},
   "source": [
    "# Фидбек (бесценно)"
   ]
  },
  {
   "cell_type": "markdown",
   "metadata": {},
   "source": [
    "* Какие аспекты обучения линейных моделей Вам показались непонятными? Какое место стоит дополнительно объяснить?"
   ]
  },
  {
   "cell_type": "markdown",
   "metadata": {},
   "source": [
    "***Ваше ответ здесь***"
   ]
  },
  {
   "cell_type": "markdown",
   "metadata": {},
   "source": [
    "* Здесь Вы можете оставить отзыв о этой домашней работе или о всем курсе.   "
   ]
  },
  {
   "cell_type": "markdown",
   "metadata": {},
   "source": [
    "*** ВАШ ОТЗЫВ ЗДЕСЬ***"
   ]
  },
  {
   "cell_type": "code",
   "execution_count": null,
   "metadata": {},
   "outputs": [],
   "source": []
  },
  {
   "cell_type": "code",
   "execution_count": null,
   "metadata": {},
   "outputs": [],
   "source": []
  }
 ],
 "metadata": {
  "anaconda-cloud": {},
  "kernelspec": {
   "display_name": "Python 3",
   "language": "python",
   "name": "python3"
  },
  "language_info": {
   "codemirror_mode": {
    "name": "ipython",
    "version": 3
   },
   "file_extension": ".py",
   "mimetype": "text/x-python",
   "name": "python",
   "nbconvert_exporter": "python",
   "pygments_lexer": "ipython3",
   "version": "3.7.3"
  },
  "nav_menu": {},
  "toc": {
   "colors": {
    "hover_highlight": "#DAA520",
    "navigate_num": "#000000",
    "navigate_text": "#333333",
    "running_highlight": "#FF0000",
    "selected_highlight": "#FFD700",
    "sidebar_border": "#EEEEEE",
    "wrapper_background": "#FFFFFF"
   },
   "moveMenuLeft": true,
   "nav_menu": {
    "height": "402px",
    "width": "253px"
   },
   "navigate_menu": true,
   "number_sections": false,
   "sideBar": true,
   "threshold": 4,
   "toc_cell": false,
   "toc_section_display": "block",
   "toc_window_display": true,
   "widenNotebook": false
  }
 },
 "nbformat": 4,
 "nbformat_minor": 2
}
